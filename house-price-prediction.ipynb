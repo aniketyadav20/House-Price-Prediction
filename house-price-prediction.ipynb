{
 "cells": [
  {
   "cell_type": "code",
   "execution_count": 1,
   "metadata": {
    "execution": {
     "iopub.execute_input": "2020-08-27T17:29:48.059250Z",
     "iopub.status.busy": "2020-08-27T17:29:48.058561Z",
     "iopub.status.idle": "2020-08-27T17:29:48.061264Z",
     "shell.execute_reply": "2020-08-27T17:29:48.061787Z"
    },
    "id": "90v0Rb7ud5Lw",
    "papermill": {
     "duration": 0.045663,
     "end_time": "2020-08-27T17:29:48.061967",
     "exception": false,
     "start_time": "2020-08-27T17:29:48.016304",
     "status": "completed"
    },
    "tags": []
   },
   "outputs": [],
   "source": [
    "import pandas as pd\n",
    "import numpy as np\n",
    "from matplotlib import pyplot as plt\n",
    "%matplotlib inline\n",
    "import matplotlib \n",
    "matplotlib.rcParams[\"figure.figsize\"] = (20,10)"
   ]
  },
  {
   "cell_type": "code",
   "execution_count": 2,
   "metadata": {
    "execution": {
     "iopub.execute_input": "2020-08-27T17:29:48.137304Z",
     "iopub.status.busy": "2020-08-27T17:29:48.136522Z",
     "iopub.status.idle": "2020-08-27T17:29:48.191447Z",
     "shell.execute_reply": "2020-08-27T17:29:48.190968Z"
    },
    "executionInfo": {
     "elapsed": 5508,
     "status": "ok",
     "timestamp": 1587378785663,
     "user": {
      "displayName": "Aniket Yadav",
      "photoUrl": "https://lh3.googleusercontent.com/a-/AOh14GhCGjdGVIvP9Y3sjNgXbHXgTZCE7GEameN2e4vBbQ=s64",
      "userId": "04539006983376047031"
     },
     "user_tz": -330
    },
    "id": "PKE2AOIKelET",
    "outputId": "f714c019-b395-4c63-d568-ec1df9b3a37c",
    "papermill": {
     "duration": 0.096859,
     "end_time": "2020-08-27T17:29:48.191592",
     "exception": false,
     "start_time": "2020-08-27T17:29:48.094733",
     "status": "completed"
    },
    "tags": []
   },
   "outputs": [
    {
     "data": {
      "text/html": [
       "<div>\n",
       "<style scoped>\n",
       "    .dataframe tbody tr th:only-of-type {\n",
       "        vertical-align: middle;\n",
       "    }\n",
       "\n",
       "    .dataframe tbody tr th {\n",
       "        vertical-align: top;\n",
       "    }\n",
       "\n",
       "    .dataframe thead th {\n",
       "        text-align: right;\n",
       "    }\n",
       "</style>\n",
       "<table border=\"1\" class=\"dataframe\">\n",
       "  <thead>\n",
       "    <tr style=\"text-align: right;\">\n",
       "      <th></th>\n",
       "      <th>area_type</th>\n",
       "      <th>availability</th>\n",
       "      <th>location</th>\n",
       "      <th>size</th>\n",
       "      <th>society</th>\n",
       "      <th>total_sqft</th>\n",
       "      <th>bath</th>\n",
       "      <th>balcony</th>\n",
       "      <th>price</th>\n",
       "    </tr>\n",
       "  </thead>\n",
       "  <tbody>\n",
       "    <tr>\n",
       "      <th>0</th>\n",
       "      <td>Super built-up  Area</td>\n",
       "      <td>19-Dec</td>\n",
       "      <td>Electronic City Phase II</td>\n",
       "      <td>2 BHK</td>\n",
       "      <td>Coomee</td>\n",
       "      <td>1056</td>\n",
       "      <td>2.0</td>\n",
       "      <td>1.0</td>\n",
       "      <td>39.07</td>\n",
       "    </tr>\n",
       "    <tr>\n",
       "      <th>1</th>\n",
       "      <td>Plot  Area</td>\n",
       "      <td>Ready To Move</td>\n",
       "      <td>Chikka Tirupathi</td>\n",
       "      <td>4 Bedroom</td>\n",
       "      <td>Theanmp</td>\n",
       "      <td>2600</td>\n",
       "      <td>5.0</td>\n",
       "      <td>3.0</td>\n",
       "      <td>120.00</td>\n",
       "    </tr>\n",
       "    <tr>\n",
       "      <th>2</th>\n",
       "      <td>Built-up  Area</td>\n",
       "      <td>Ready To Move</td>\n",
       "      <td>Uttarahalli</td>\n",
       "      <td>3 BHK</td>\n",
       "      <td>NaN</td>\n",
       "      <td>1440</td>\n",
       "      <td>2.0</td>\n",
       "      <td>3.0</td>\n",
       "      <td>62.00</td>\n",
       "    </tr>\n",
       "    <tr>\n",
       "      <th>3</th>\n",
       "      <td>Super built-up  Area</td>\n",
       "      <td>Ready To Move</td>\n",
       "      <td>Lingadheeranahalli</td>\n",
       "      <td>3 BHK</td>\n",
       "      <td>Soiewre</td>\n",
       "      <td>1521</td>\n",
       "      <td>3.0</td>\n",
       "      <td>1.0</td>\n",
       "      <td>95.00</td>\n",
       "    </tr>\n",
       "    <tr>\n",
       "      <th>4</th>\n",
       "      <td>Super built-up  Area</td>\n",
       "      <td>Ready To Move</td>\n",
       "      <td>Kothanur</td>\n",
       "      <td>2 BHK</td>\n",
       "      <td>NaN</td>\n",
       "      <td>1200</td>\n",
       "      <td>2.0</td>\n",
       "      <td>1.0</td>\n",
       "      <td>51.00</td>\n",
       "    </tr>\n",
       "  </tbody>\n",
       "</table>\n",
       "</div>"
      ],
      "text/plain": [
       "              area_type   availability                  location       size  \\\n",
       "0  Super built-up  Area         19-Dec  Electronic City Phase II      2 BHK   \n",
       "1            Plot  Area  Ready To Move          Chikka Tirupathi  4 Bedroom   \n",
       "2        Built-up  Area  Ready To Move               Uttarahalli      3 BHK   \n",
       "3  Super built-up  Area  Ready To Move        Lingadheeranahalli      3 BHK   \n",
       "4  Super built-up  Area  Ready To Move                  Kothanur      2 BHK   \n",
       "\n",
       "   society total_sqft  bath  balcony   price  \n",
       "0  Coomee        1056   2.0      1.0   39.07  \n",
       "1  Theanmp       2600   5.0      3.0  120.00  \n",
       "2      NaN       1440   2.0      3.0   62.00  \n",
       "3  Soiewre       1521   3.0      1.0   95.00  \n",
       "4      NaN       1200   2.0      1.0   51.00  "
      ]
     },
     "execution_count": 2,
     "metadata": {},
     "output_type": "execute_result"
    }
   ],
   "source": [
    "df1 = pd.read_csv(\"../input/bangalore/banglore.csv\")\n",
    "df1.head()"
   ]
  },
  {
   "cell_type": "code",
   "execution_count": 3,
   "metadata": {
    "execution": {
     "iopub.execute_input": "2020-08-27T17:29:48.268642Z",
     "iopub.status.busy": "2020-08-27T17:29:48.267631Z",
     "iopub.status.idle": "2020-08-27T17:29:48.273352Z",
     "shell.execute_reply": "2020-08-27T17:29:48.272802Z"
    },
    "executionInfo": {
     "elapsed": 5484,
     "status": "ok",
     "timestamp": 1587378785664,
     "user": {
      "displayName": "Aniket Yadav",
      "photoUrl": "https://lh3.googleusercontent.com/a-/AOh14GhCGjdGVIvP9Y3sjNgXbHXgTZCE7GEameN2e4vBbQ=s64",
      "userId": "04539006983376047031"
     },
     "user_tz": -330
    },
    "id": "xVYfIju0erwC",
    "outputId": "61e8cef6-f478-417c-f44f-8f87832aa508",
    "papermill": {
     "duration": 0.048101,
     "end_time": "2020-08-27T17:29:48.273461",
     "exception": false,
     "start_time": "2020-08-27T17:29:48.225360",
     "status": "completed"
    },
    "tags": []
   },
   "outputs": [
    {
     "data": {
      "text/plain": [
       "array(['Super built-up  Area', 'Plot  Area', 'Built-up  Area',\n",
       "       'Carpet  Area'], dtype=object)"
      ]
     },
     "execution_count": 3,
     "metadata": {},
     "output_type": "execute_result"
    }
   ],
   "source": [
    "df1['area_type'].unique()"
   ]
  },
  {
   "cell_type": "code",
   "execution_count": 4,
   "metadata": {
    "execution": {
     "iopub.execute_input": "2020-08-27T17:29:48.349013Z",
     "iopub.status.busy": "2020-08-27T17:29:48.348205Z",
     "iopub.status.idle": "2020-08-27T17:29:48.352080Z",
     "shell.execute_reply": "2020-08-27T17:29:48.352589Z"
    },
    "executionInfo": {
     "elapsed": 5466,
     "status": "ok",
     "timestamp": 1587378785667,
     "user": {
      "displayName": "Aniket Yadav",
      "photoUrl": "https://lh3.googleusercontent.com/a-/AOh14GhCGjdGVIvP9Y3sjNgXbHXgTZCE7GEameN2e4vBbQ=s64",
      "userId": "04539006983376047031"
     },
     "user_tz": -330
    },
    "id": "cpSkFFYUew90",
    "outputId": "f6ba438a-5cf4-4b1c-bc8d-39c4155aa756",
    "papermill": {
     "duration": 0.045979,
     "end_time": "2020-08-27T17:29:48.352735",
     "exception": false,
     "start_time": "2020-08-27T17:29:48.306756",
     "status": "completed"
    },
    "tags": []
   },
   "outputs": [
    {
     "data": {
      "text/plain": [
       "Super built-up  Area    8790\n",
       "Built-up  Area          2418\n",
       "Plot  Area              2025\n",
       "Carpet  Area              87\n",
       "Name: area_type, dtype: int64"
      ]
     },
     "execution_count": 4,
     "metadata": {},
     "output_type": "execute_result"
    }
   ],
   "source": [
    "df1['area_type'].value_counts()"
   ]
  },
  {
   "cell_type": "code",
   "execution_count": 5,
   "metadata": {
    "execution": {
     "iopub.execute_input": "2020-08-27T17:29:48.427981Z",
     "iopub.status.busy": "2020-08-27T17:29:48.427240Z",
     "iopub.status.idle": "2020-08-27T17:29:48.434618Z",
     "shell.execute_reply": "2020-08-27T17:29:48.434114Z"
    },
    "executionInfo": {
     "elapsed": 5447,
     "status": "ok",
     "timestamp": 1587378785668,
     "user": {
      "displayName": "Aniket Yadav",
      "photoUrl": "https://lh3.googleusercontent.com/a-/AOh14GhCGjdGVIvP9Y3sjNgXbHXgTZCE7GEameN2e4vBbQ=s64",
      "userId": "04539006983376047031"
     },
     "user_tz": -330
    },
    "id": "2Q8J5-OQe0Eq",
    "outputId": "15aee981-98f8-4007-ba29-55731d7efe4e",
    "papermill": {
     "duration": 0.048068,
     "end_time": "2020-08-27T17:29:48.434736",
     "exception": false,
     "start_time": "2020-08-27T17:29:48.386668",
     "status": "completed"
    },
    "tags": []
   },
   "outputs": [
    {
     "data": {
      "text/plain": [
       "(13320, 5)"
      ]
     },
     "execution_count": 5,
     "metadata": {},
     "output_type": "execute_result"
    }
   ],
   "source": [
    "df2 = df1.drop(['area_type','society','balcony','availability'],axis='columns')\n",
    "df2.shape"
   ]
  },
  {
   "cell_type": "code",
   "execution_count": 6,
   "metadata": {
    "execution": {
     "iopub.execute_input": "2020-08-27T17:29:48.510169Z",
     "iopub.status.busy": "2020-08-27T17:29:48.509382Z",
     "iopub.status.idle": "2020-08-27T17:29:48.516766Z",
     "shell.execute_reply": "2020-08-27T17:29:48.516184Z"
    },
    "executionInfo": {
     "elapsed": 5426,
     "status": "ok",
     "timestamp": 1587378785669,
     "user": {
      "displayName": "Aniket Yadav",
      "photoUrl": "https://lh3.googleusercontent.com/a-/AOh14GhCGjdGVIvP9Y3sjNgXbHXgTZCE7GEameN2e4vBbQ=s64",
      "userId": "04539006983376047031"
     },
     "user_tz": -330
    },
    "id": "m--45_vUe3o2",
    "outputId": "8f6e14f1-8496-4af7-e4da-7108cd8e5193",
    "papermill": {
     "duration": 0.047703,
     "end_time": "2020-08-27T17:29:48.516887",
     "exception": false,
     "start_time": "2020-08-27T17:29:48.469184",
     "status": "completed"
    },
    "tags": []
   },
   "outputs": [
    {
     "data": {
      "text/plain": [
       "location       1\n",
       "size          16\n",
       "total_sqft     0\n",
       "bath          73\n",
       "price          0\n",
       "dtype: int64"
      ]
     },
     "execution_count": 6,
     "metadata": {},
     "output_type": "execute_result"
    }
   ],
   "source": [
    "df2.isnull().sum()"
   ]
  },
  {
   "cell_type": "code",
   "execution_count": 7,
   "metadata": {
    "execution": {
     "iopub.execute_input": "2020-08-27T17:29:48.591706Z",
     "iopub.status.busy": "2020-08-27T17:29:48.590847Z",
     "iopub.status.idle": "2020-08-27T17:29:48.594789Z",
     "shell.execute_reply": "2020-08-27T17:29:48.594184Z"
    },
    "executionInfo": {
     "elapsed": 5409,
     "status": "ok",
     "timestamp": 1587378785671,
     "user": {
      "displayName": "Aniket Yadav",
      "photoUrl": "https://lh3.googleusercontent.com/a-/AOh14GhCGjdGVIvP9Y3sjNgXbHXgTZCE7GEameN2e4vBbQ=s64",
      "userId": "04539006983376047031"
     },
     "user_tz": -330
    },
    "id": "d4T0tMKxe7bz",
    "outputId": "51642e56-7aed-4cba-8c72-fe9946dd8be3",
    "papermill": {
     "duration": 0.043291,
     "end_time": "2020-08-27T17:29:48.594902",
     "exception": false,
     "start_time": "2020-08-27T17:29:48.551611",
     "status": "completed"
    },
    "tags": []
   },
   "outputs": [
    {
     "data": {
      "text/plain": [
       "(13320, 5)"
      ]
     },
     "execution_count": 7,
     "metadata": {},
     "output_type": "execute_result"
    }
   ],
   "source": [
    "df2.shape"
   ]
  },
  {
   "cell_type": "code",
   "execution_count": 8,
   "metadata": {
    "execution": {
     "iopub.execute_input": "2020-08-27T17:29:48.674023Z",
     "iopub.status.busy": "2020-08-27T17:29:48.673038Z",
     "iopub.status.idle": "2020-08-27T17:29:48.700059Z",
     "shell.execute_reply": "2020-08-27T17:29:48.699343Z"
    },
    "id": "F8aAd7ake95r",
    "papermill": {
     "duration": 0.070392,
     "end_time": "2020-08-27T17:29:48.700177",
     "exception": false,
     "start_time": "2020-08-27T17:29:48.629785",
     "status": "completed"
    },
    "tags": []
   },
   "outputs": [],
   "source": [
    "df3 = df2.dropna()\n"
   ]
  },
  {
   "cell_type": "code",
   "execution_count": 9,
   "metadata": {
    "execution": {
     "iopub.execute_input": "2020-08-27T17:29:48.778106Z",
     "iopub.status.busy": "2020-08-27T17:29:48.777342Z",
     "iopub.status.idle": "2020-08-27T17:29:48.784291Z",
     "shell.execute_reply": "2020-08-27T17:29:48.783739Z"
    },
    "executionInfo": {
     "elapsed": 5400,
     "status": "ok",
     "timestamp": 1587378785684,
     "user": {
      "displayName": "Aniket Yadav",
      "photoUrl": "https://lh3.googleusercontent.com/a-/AOh14GhCGjdGVIvP9Y3sjNgXbHXgTZCE7GEameN2e4vBbQ=s64",
      "userId": "04539006983376047031"
     },
     "user_tz": -330
    },
    "id": "g9zqVRyNm67L",
    "outputId": "826bf189-b478-4191-b7dc-865f070890f2",
    "papermill": {
     "duration": 0.049055,
     "end_time": "2020-08-27T17:29:48.784416",
     "exception": false,
     "start_time": "2020-08-27T17:29:48.735361",
     "status": "completed"
    },
    "tags": []
   },
   "outputs": [
    {
     "data": {
      "text/plain": [
       "location      0\n",
       "size          0\n",
       "total_sqft    0\n",
       "bath          0\n",
       "price         0\n",
       "dtype: int64"
      ]
     },
     "execution_count": 9,
     "metadata": {},
     "output_type": "execute_result"
    }
   ],
   "source": [
    "df3.isnull().sum()"
   ]
  },
  {
   "cell_type": "code",
   "execution_count": 10,
   "metadata": {
    "execution": {
     "iopub.execute_input": "2020-08-27T17:29:48.861264Z",
     "iopub.status.busy": "2020-08-27T17:29:48.860474Z",
     "iopub.status.idle": "2020-08-27T17:29:48.864476Z",
     "shell.execute_reply": "2020-08-27T17:29:48.864954Z"
    },
    "executionInfo": {
     "elapsed": 5381,
     "status": "ok",
     "timestamp": 1587378785685,
     "user": {
      "displayName": "Aniket Yadav",
      "photoUrl": "https://lh3.googleusercontent.com/a-/AOh14GhCGjdGVIvP9Y3sjNgXbHXgTZCE7GEameN2e4vBbQ=s64",
      "userId": "04539006983376047031"
     },
     "user_tz": -330
    },
    "id": "EN_XPvHVfBDd",
    "outputId": "4a5fe1c7-8502-4835-eb73-50aece8829fd",
    "papermill": {
     "duration": 0.04472,
     "end_time": "2020-08-27T17:29:48.865103",
     "exception": false,
     "start_time": "2020-08-27T17:29:48.820383",
     "status": "completed"
    },
    "tags": []
   },
   "outputs": [
    {
     "data": {
      "text/plain": [
       "(13246, 5)"
      ]
     },
     "execution_count": 10,
     "metadata": {},
     "output_type": "execute_result"
    }
   ],
   "source": [
    "df3.shape"
   ]
  },
  {
   "cell_type": "code",
   "execution_count": 11,
   "metadata": {
    "execution": {
     "iopub.execute_input": "2020-08-27T17:29:48.956455Z",
     "iopub.status.busy": "2020-08-27T17:29:48.955442Z",
     "iopub.status.idle": "2020-08-27T17:29:48.963232Z",
     "shell.execute_reply": "2020-08-27T17:29:48.961897Z"
    },
    "executionInfo": {
     "elapsed": 5367,
     "status": "ok",
     "timestamp": 1587378785687,
     "user": {
      "displayName": "Aniket Yadav",
      "photoUrl": "https://lh3.googleusercontent.com/a-/AOh14GhCGjdGVIvP9Y3sjNgXbHXgTZCE7GEameN2e4vBbQ=s64",
      "userId": "04539006983376047031"
     },
     "user_tz": -330
    },
    "id": "3ATNFrOkfO-3",
    "outputId": "11d0f680-278e-45c2-bc42-9fab581054d7",
    "papermill": {
     "duration": 0.062415,
     "end_time": "2020-08-27T17:29:48.963364",
     "exception": false,
     "start_time": "2020-08-27T17:29:48.900949",
     "status": "completed"
    },
    "tags": []
   },
   "outputs": [
    {
     "name": "stderr",
     "output_type": "stream",
     "text": [
      "/opt/conda/lib/python3.7/site-packages/ipykernel_launcher.py:1: SettingWithCopyWarning: \n",
      "A value is trying to be set on a copy of a slice from a DataFrame.\n",
      "Try using .loc[row_indexer,col_indexer] = value instead\n",
      "\n",
      "See the caveats in the documentation: https://pandas.pydata.org/pandas-docs/stable/user_guide/indexing.html#returning-a-view-versus-a-copy\n",
      "  \"\"\"Entry point for launching an IPython kernel.\n"
     ]
    },
    {
     "data": {
      "text/plain": [
       "array([ 2,  4,  3,  6,  1,  8,  7,  5, 11,  9, 27, 10, 19, 16, 43, 14, 12,\n",
       "       13, 18])"
      ]
     },
     "execution_count": 11,
     "metadata": {},
     "output_type": "execute_result"
    }
   ],
   "source": [
    "df3['bhk'] = df3['size'].apply(lambda x: int(x.split(' ')[0]))\n",
    "df3.bhk.unique()"
   ]
  },
  {
   "cell_type": "code",
   "execution_count": 12,
   "metadata": {
    "execution": {
     "iopub.execute_input": "2020-08-27T17:29:49.042819Z",
     "iopub.status.busy": "2020-08-27T17:29:49.041837Z",
     "iopub.status.idle": "2020-08-27T17:29:49.045290Z",
     "shell.execute_reply": "2020-08-27T17:29:49.044680Z"
    },
    "id": "kBFS5pfIfRrQ",
    "papermill": {
     "duration": 0.044814,
     "end_time": "2020-08-27T17:29:49.045400",
     "exception": false,
     "start_time": "2020-08-27T17:29:49.000586",
     "status": "completed"
    },
    "tags": []
   },
   "outputs": [],
   "source": [
    "def is_float(x):\n",
    "    try:\n",
    "        float(x)\n",
    "    except:\n",
    "        return False\n",
    "    return True"
   ]
  },
  {
   "cell_type": "code",
   "execution_count": 13,
   "metadata": {
    "execution": {
     "iopub.execute_input": "2020-08-27T17:29:49.124271Z",
     "iopub.status.busy": "2020-08-27T17:29:49.123530Z",
     "iopub.status.idle": "2020-08-27T17:29:49.126673Z",
     "shell.execute_reply": "2020-08-27T17:29:49.127090Z"
    },
    "executionInfo": {
     "elapsed": 5348,
     "status": "ok",
     "timestamp": 1587378785690,
     "user": {
      "displayName": "Aniket Yadav",
      "photoUrl": "https://lh3.googleusercontent.com/a-/AOh14GhCGjdGVIvP9Y3sjNgXbHXgTZCE7GEameN2e4vBbQ=s64",
      "userId": "04539006983376047031"
     },
     "user_tz": -330
    },
    "id": "qr8rt8FjfVoI",
    "outputId": "8056ccb9-4793-4246-9c4c-4e3f05ae1bf3",
    "papermill": {
     "duration": 0.045105,
     "end_time": "2020-08-27T17:29:49.127243",
     "exception": false,
     "start_time": "2020-08-27T17:29:49.082138",
     "status": "completed"
    },
    "tags": []
   },
   "outputs": [
    {
     "data": {
      "text/plain": [
       "5"
      ]
     },
     "execution_count": 13,
     "metadata": {},
     "output_type": "execute_result"
    }
   ],
   "source": [
    "2+3"
   ]
  },
  {
   "cell_type": "code",
   "execution_count": 14,
   "metadata": {
    "execution": {
     "iopub.execute_input": "2020-08-27T17:29:49.222081Z",
     "iopub.status.busy": "2020-08-27T17:29:49.221255Z",
     "iopub.status.idle": "2020-08-27T17:29:49.225726Z",
     "shell.execute_reply": "2020-08-27T17:29:49.225071Z"
    },
    "executionInfo": {
     "elapsed": 5324,
     "status": "ok",
     "timestamp": 1587378785692,
     "user": {
      "displayName": "Aniket Yadav",
      "photoUrl": "https://lh3.googleusercontent.com/a-/AOh14GhCGjdGVIvP9Y3sjNgXbHXgTZCE7GEameN2e4vBbQ=s64",
      "userId": "04539006983376047031"
     },
     "user_tz": -330
    },
    "id": "s4mrPtzdfYu8",
    "outputId": "51725840-bed5-4fdc-bfa3-a7e47b37470a",
    "papermill": {
     "duration": 0.061621,
     "end_time": "2020-08-27T17:29:49.225843",
     "exception": false,
     "start_time": "2020-08-27T17:29:49.164222",
     "status": "completed"
    },
    "tags": []
   },
   "outputs": [
    {
     "data": {
      "text/html": [
       "<div>\n",
       "<style scoped>\n",
       "    .dataframe tbody tr th:only-of-type {\n",
       "        vertical-align: middle;\n",
       "    }\n",
       "\n",
       "    .dataframe tbody tr th {\n",
       "        vertical-align: top;\n",
       "    }\n",
       "\n",
       "    .dataframe thead th {\n",
       "        text-align: right;\n",
       "    }\n",
       "</style>\n",
       "<table border=\"1\" class=\"dataframe\">\n",
       "  <thead>\n",
       "    <tr style=\"text-align: right;\">\n",
       "      <th></th>\n",
       "      <th>location</th>\n",
       "      <th>size</th>\n",
       "      <th>total_sqft</th>\n",
       "      <th>bath</th>\n",
       "      <th>price</th>\n",
       "      <th>bhk</th>\n",
       "    </tr>\n",
       "  </thead>\n",
       "  <tbody>\n",
       "    <tr>\n",
       "      <th>30</th>\n",
       "      <td>Yelahanka</td>\n",
       "      <td>4 BHK</td>\n",
       "      <td>2100 - 2850</td>\n",
       "      <td>4.0</td>\n",
       "      <td>186.000</td>\n",
       "      <td>4</td>\n",
       "    </tr>\n",
       "    <tr>\n",
       "      <th>122</th>\n",
       "      <td>Hebbal</td>\n",
       "      <td>4 BHK</td>\n",
       "      <td>3067 - 8156</td>\n",
       "      <td>4.0</td>\n",
       "      <td>477.000</td>\n",
       "      <td>4</td>\n",
       "    </tr>\n",
       "    <tr>\n",
       "      <th>137</th>\n",
       "      <td>8th Phase JP Nagar</td>\n",
       "      <td>2 BHK</td>\n",
       "      <td>1042 - 1105</td>\n",
       "      <td>2.0</td>\n",
       "      <td>54.005</td>\n",
       "      <td>2</td>\n",
       "    </tr>\n",
       "    <tr>\n",
       "      <th>165</th>\n",
       "      <td>Sarjapur</td>\n",
       "      <td>2 BHK</td>\n",
       "      <td>1145 - 1340</td>\n",
       "      <td>2.0</td>\n",
       "      <td>43.490</td>\n",
       "      <td>2</td>\n",
       "    </tr>\n",
       "    <tr>\n",
       "      <th>188</th>\n",
       "      <td>KR Puram</td>\n",
       "      <td>2 BHK</td>\n",
       "      <td>1015 - 1540</td>\n",
       "      <td>2.0</td>\n",
       "      <td>56.800</td>\n",
       "      <td>2</td>\n",
       "    </tr>\n",
       "    <tr>\n",
       "      <th>410</th>\n",
       "      <td>Kengeri</td>\n",
       "      <td>1 BHK</td>\n",
       "      <td>34.46Sq. Meter</td>\n",
       "      <td>1.0</td>\n",
       "      <td>18.500</td>\n",
       "      <td>1</td>\n",
       "    </tr>\n",
       "    <tr>\n",
       "      <th>549</th>\n",
       "      <td>Hennur Road</td>\n",
       "      <td>2 BHK</td>\n",
       "      <td>1195 - 1440</td>\n",
       "      <td>2.0</td>\n",
       "      <td>63.770</td>\n",
       "      <td>2</td>\n",
       "    </tr>\n",
       "    <tr>\n",
       "      <th>648</th>\n",
       "      <td>Arekere</td>\n",
       "      <td>9 Bedroom</td>\n",
       "      <td>4125Perch</td>\n",
       "      <td>9.0</td>\n",
       "      <td>265.000</td>\n",
       "      <td>9</td>\n",
       "    </tr>\n",
       "    <tr>\n",
       "      <th>661</th>\n",
       "      <td>Yelahanka</td>\n",
       "      <td>2 BHK</td>\n",
       "      <td>1120 - 1145</td>\n",
       "      <td>2.0</td>\n",
       "      <td>48.130</td>\n",
       "      <td>2</td>\n",
       "    </tr>\n",
       "    <tr>\n",
       "      <th>672</th>\n",
       "      <td>Bettahalsoor</td>\n",
       "      <td>4 Bedroom</td>\n",
       "      <td>3090 - 5002</td>\n",
       "      <td>4.0</td>\n",
       "      <td>445.000</td>\n",
       "      <td>4</td>\n",
       "    </tr>\n",
       "  </tbody>\n",
       "</table>\n",
       "</div>"
      ],
      "text/plain": [
       "               location       size      total_sqft  bath    price  bhk\n",
       "30            Yelahanka      4 BHK     2100 - 2850   4.0  186.000    4\n",
       "122              Hebbal      4 BHK     3067 - 8156   4.0  477.000    4\n",
       "137  8th Phase JP Nagar      2 BHK     1042 - 1105   2.0   54.005    2\n",
       "165            Sarjapur      2 BHK     1145 - 1340   2.0   43.490    2\n",
       "188            KR Puram      2 BHK     1015 - 1540   2.0   56.800    2\n",
       "410             Kengeri      1 BHK  34.46Sq. Meter   1.0   18.500    1\n",
       "549         Hennur Road      2 BHK     1195 - 1440   2.0   63.770    2\n",
       "648             Arekere  9 Bedroom       4125Perch   9.0  265.000    9\n",
       "661           Yelahanka      2 BHK     1120 - 1145   2.0   48.130    2\n",
       "672        Bettahalsoor  4 Bedroom     3090 - 5002   4.0  445.000    4"
      ]
     },
     "execution_count": 14,
     "metadata": {},
     "output_type": "execute_result"
    }
   ],
   "source": [
    "df3[~df3['total_sqft'].apply(is_float)].head(10)\n"
   ]
  },
  {
   "cell_type": "code",
   "execution_count": 15,
   "metadata": {
    "execution": {
     "iopub.execute_input": "2020-08-27T17:29:49.310657Z",
     "iopub.status.busy": "2020-08-27T17:29:49.309987Z",
     "iopub.status.idle": "2020-08-27T17:29:49.321009Z",
     "shell.execute_reply": "2020-08-27T17:29:49.321727Z"
    },
    "executionInfo": {
     "elapsed": 5305,
     "status": "ok",
     "timestamp": 1587378785694,
     "user": {
      "displayName": "Aniket Yadav",
      "photoUrl": "https://lh3.googleusercontent.com/a-/AOh14GhCGjdGVIvP9Y3sjNgXbHXgTZCE7GEameN2e4vBbQ=s64",
      "userId": "04539006983376047031"
     },
     "user_tz": -330
    },
    "id": "ilfXvRsmfbAU",
    "outputId": "35d2e1fd-7d01-4249-de21-8ca5cceeb01c",
    "papermill": {
     "duration": 0.056755,
     "end_time": "2020-08-27T17:29:49.321916",
     "exception": false,
     "start_time": "2020-08-27T17:29:49.265161",
     "status": "completed"
    },
    "tags": []
   },
   "outputs": [
    {
     "name": "stdout",
     "output_type": "stream",
     "text": [
      "<class 'pandas.core.frame.DataFrame'>\n",
      "Int64Index: 13246 entries, 0 to 13319\n",
      "Data columns (total 6 columns):\n",
      " #   Column      Non-Null Count  Dtype  \n",
      "---  ------      --------------  -----  \n",
      " 0   location    13246 non-null  object \n",
      " 1   size        13246 non-null  object \n",
      " 2   total_sqft  13246 non-null  object \n",
      " 3   bath        13246 non-null  float64\n",
      " 4   price       13246 non-null  float64\n",
      " 5   bhk         13246 non-null  int64  \n",
      "dtypes: float64(2), int64(1), object(3)\n",
      "memory usage: 724.4+ KB\n"
     ]
    }
   ],
   "source": [
    "df3.info()"
   ]
  },
  {
   "cell_type": "code",
   "execution_count": 16,
   "metadata": {
    "execution": {
     "iopub.execute_input": "2020-08-27T17:29:49.408832Z",
     "iopub.status.busy": "2020-08-27T17:29:49.407738Z",
     "iopub.status.idle": "2020-08-27T17:29:49.411008Z",
     "shell.execute_reply": "2020-08-27T17:29:49.410358Z"
    },
    "id": "8zNf_nT1hfzn",
    "papermill": {
     "duration": 0.050382,
     "end_time": "2020-08-27T17:29:49.411130",
     "exception": false,
     "start_time": "2020-08-27T17:29:49.360748",
     "status": "completed"
    },
    "tags": []
   },
   "outputs": [],
   "source": [
    "j=0\n",
    "l=[]\n",
    "for i in df3[\"total_sqft\"]:\n",
    "    if '-' in i:\n",
    "      l.append(j)\n",
    "    j=j+1\n",
    "     "
   ]
  },
  {
   "cell_type": "code",
   "execution_count": 17,
   "metadata": {
    "execution": {
     "iopub.execute_input": "2020-08-27T17:29:49.495985Z",
     "iopub.status.busy": "2020-08-27T17:29:49.495174Z",
     "iopub.status.idle": "2020-08-27T17:29:49.499061Z",
     "shell.execute_reply": "2020-08-27T17:29:49.499663Z"
    },
    "executionInfo": {
     "elapsed": 5266,
     "status": "ok",
     "timestamp": 1587378785696,
     "user": {
      "displayName": "Aniket Yadav",
      "photoUrl": "https://lh3.googleusercontent.com/a-/AOh14GhCGjdGVIvP9Y3sjNgXbHXgTZCE7GEameN2e4vBbQ=s64",
      "userId": "04539006983376047031"
     },
     "user_tz": -330
    },
    "id": "g50ZC-ewi54L",
    "outputId": "1dc75f0a-4f25-4b87-af8a-277bab8168ac",
    "papermill": {
     "duration": 0.050559,
     "end_time": "2020-08-27T17:29:49.499824",
     "exception": false,
     "start_time": "2020-08-27T17:29:49.449265",
     "status": "completed"
    },
    "tags": []
   },
   "outputs": [
    {
     "data": {
      "text/plain": [
       "[30,\n",
       " 120,\n",
       " 135,\n",
       " 163,\n",
       " 186,\n",
       " 545,\n",
       " 655,\n",
       " 665,\n",
       " 764,\n",
       " 841,\n",
       " 877,\n",
       " 918,\n",
       " 949,\n",
       " 980,\n",
       " 1168,\n",
       " 1173,\n",
       " 1177,\n",
       " 1472,\n",
       " 1530,\n",
       " 1602,\n",
       " 1631,\n",
       " 1671,\n",
       " 1681,\n",
       " 2071,\n",
       " 2111,\n",
       " 2211,\n",
       " 2247,\n",
       " 2283,\n",
       " 2378,\n",
       " 2413,\n",
       " 2555,\n",
       " 2567,\n",
       " 2693,\n",
       " 2696,\n",
       " 2894,\n",
       " 2898,\n",
       " 3150,\n",
       " 3191,\n",
       " 3332,\n",
       " 3340,\n",
       " 3443,\n",
       " 3862,\n",
       " 3919,\n",
       " 3956,\n",
       " 4094,\n",
       " 4162,\n",
       " 4197,\n",
       " 4260,\n",
       " 4467,\n",
       " 4853,\n",
       " 5146,\n",
       " 5252,\n",
       " 5340,\n",
       " 5348,\n",
       " 5563,\n",
       " 5607,\n",
       " 5622,\n",
       " 5746,\n",
       " 5811,\n",
       " 5850,\n",
       " 5871,\n",
       " 5902,\n",
       " 5945,\n",
       " 5947,\n",
       " 6018,\n",
       " 6191,\n",
       " 6236,\n",
       " 6295,\n",
       " 6346,\n",
       " 6480,\n",
       " 6539,\n",
       " 6545,\n",
       " 6600,\n",
       " 6639,\n",
       " 6725,\n",
       " 6787,\n",
       " 6940,\n",
       " 7239,\n",
       " 7364,\n",
       " 7630,\n",
       " 7668,\n",
       " 7697,\n",
       " 7747,\n",
       " 7793,\n",
       " 7911,\n",
       " 7971,\n",
       " 8034,\n",
       " 8183,\n",
       " 8256,\n",
       " 8420,\n",
       " 8665,\n",
       " 8811,\n",
       " 8813,\n",
       " 8990,\n",
       " 9086,\n",
       " 9088,\n",
       " 9103,\n",
       " 9122,\n",
       " 9139,\n",
       " 9224,\n",
       " 9238,\n",
       " 9373,\n",
       " 9414,\n",
       " 9673,\n",
       " 9751,\n",
       " 9790,\n",
       " 9987,\n",
       " 10194,\n",
       " 10287,\n",
       " 10375,\n",
       " 10403,\n",
       " 10477,\n",
       " 10504,\n",
       " 10555,\n",
       " 10640,\n",
       " 10803,\n",
       " 10828,\n",
       " 10974,\n",
       " 11110,\n",
       " 11217,\n",
       " 11304,\n",
       " 11320,\n",
       " 11338,\n",
       " 11421,\n",
       " 11428,\n",
       " 11512,\n",
       " 11579,\n",
       " 11693,\n",
       " 11756,\n",
       " 11850,\n",
       " 11898,\n",
       " 12090,\n",
       " 12113,\n",
       " 12209,\n",
       " 12263,\n",
       " 12364,\n",
       " 12473,\n",
       " 12719,\n",
       " 12882,\n",
       " 12902,\n",
       " 12917,\n",
       " 12986,\n",
       " 13191,\n",
       " 13225]"
      ]
     },
     "execution_count": 17,
     "metadata": {},
     "output_type": "execute_result"
    }
   ],
   "source": [
    "l"
   ]
  },
  {
   "cell_type": "code",
   "execution_count": 18,
   "metadata": {
    "execution": {
     "iopub.execute_input": "2020-08-27T17:29:49.594624Z",
     "iopub.status.busy": "2020-08-27T17:29:49.593814Z",
     "iopub.status.idle": "2020-08-27T17:29:49.598352Z",
     "shell.execute_reply": "2020-08-27T17:29:49.597760Z"
    },
    "executionInfo": {
     "elapsed": 5250,
     "status": "ok",
     "timestamp": 1587378785697,
     "user": {
      "displayName": "Aniket Yadav",
      "photoUrl": "https://lh3.googleusercontent.com/a-/AOh14GhCGjdGVIvP9Y3sjNgXbHXgTZCE7GEameN2e4vBbQ=s64",
      "userId": "04539006983376047031"
     },
     "user_tz": -330
    },
    "id": "dyybxdvBkHy1",
    "outputId": "3bd04366-c0d9-4e03-d985-fe7e5baaac34",
    "papermill": {
     "duration": 0.059804,
     "end_time": "2020-08-27T17:29:49.598473",
     "exception": false,
     "start_time": "2020-08-27T17:29:49.538669",
     "status": "completed"
    },
    "tags": []
   },
   "outputs": [
    {
     "data": {
      "text/html": [
       "<div>\n",
       "<style scoped>\n",
       "    .dataframe tbody tr th:only-of-type {\n",
       "        vertical-align: middle;\n",
       "    }\n",
       "\n",
       "    .dataframe tbody tr th {\n",
       "        vertical-align: top;\n",
       "    }\n",
       "\n",
       "    .dataframe thead th {\n",
       "        text-align: right;\n",
       "    }\n",
       "</style>\n",
       "<table border=\"1\" class=\"dataframe\">\n",
       "  <thead>\n",
       "    <tr style=\"text-align: right;\">\n",
       "      <th></th>\n",
       "      <th>location</th>\n",
       "      <th>size</th>\n",
       "      <th>total_sqft</th>\n",
       "      <th>bath</th>\n",
       "      <th>price</th>\n",
       "      <th>bhk</th>\n",
       "    </tr>\n",
       "  </thead>\n",
       "  <tbody>\n",
       "    <tr>\n",
       "      <th>30</th>\n",
       "      <td>Yelahanka</td>\n",
       "      <td>4 BHK</td>\n",
       "      <td>2100 - 2850</td>\n",
       "      <td>4.0</td>\n",
       "      <td>186.000</td>\n",
       "      <td>4</td>\n",
       "    </tr>\n",
       "    <tr>\n",
       "      <th>122</th>\n",
       "      <td>Hebbal</td>\n",
       "      <td>4 BHK</td>\n",
       "      <td>3067 - 8156</td>\n",
       "      <td>4.0</td>\n",
       "      <td>477.000</td>\n",
       "      <td>4</td>\n",
       "    </tr>\n",
       "    <tr>\n",
       "      <th>137</th>\n",
       "      <td>8th Phase JP Nagar</td>\n",
       "      <td>2 BHK</td>\n",
       "      <td>1042 - 1105</td>\n",
       "      <td>2.0</td>\n",
       "      <td>54.005</td>\n",
       "      <td>2</td>\n",
       "    </tr>\n",
       "    <tr>\n",
       "      <th>165</th>\n",
       "      <td>Sarjapur</td>\n",
       "      <td>2 BHK</td>\n",
       "      <td>1145 - 1340</td>\n",
       "      <td>2.0</td>\n",
       "      <td>43.490</td>\n",
       "      <td>2</td>\n",
       "    </tr>\n",
       "    <tr>\n",
       "      <th>188</th>\n",
       "      <td>KR Puram</td>\n",
       "      <td>2 BHK</td>\n",
       "      <td>1015 - 1540</td>\n",
       "      <td>2.0</td>\n",
       "      <td>56.800</td>\n",
       "      <td>2</td>\n",
       "    </tr>\n",
       "    <tr>\n",
       "      <th>...</th>\n",
       "      <td>...</td>\n",
       "      <td>...</td>\n",
       "      <td>...</td>\n",
       "      <td>...</td>\n",
       "      <td>...</td>\n",
       "      <td>...</td>\n",
       "    </tr>\n",
       "    <tr>\n",
       "      <th>12975</th>\n",
       "      <td>Whitefield</td>\n",
       "      <td>2 BHK</td>\n",
       "      <td>850 - 1060</td>\n",
       "      <td>2.0</td>\n",
       "      <td>38.190</td>\n",
       "      <td>2</td>\n",
       "    </tr>\n",
       "    <tr>\n",
       "      <th>12990</th>\n",
       "      <td>Talaghattapura</td>\n",
       "      <td>3 BHK</td>\n",
       "      <td>1804 - 2273</td>\n",
       "      <td>3.0</td>\n",
       "      <td>122.000</td>\n",
       "      <td>3</td>\n",
       "    </tr>\n",
       "    <tr>\n",
       "      <th>13059</th>\n",
       "      <td>Harlur</td>\n",
       "      <td>2 BHK</td>\n",
       "      <td>1200 - 1470</td>\n",
       "      <td>2.0</td>\n",
       "      <td>72.760</td>\n",
       "      <td>2</td>\n",
       "    </tr>\n",
       "    <tr>\n",
       "      <th>13265</th>\n",
       "      <td>Hoodi</td>\n",
       "      <td>2 BHK</td>\n",
       "      <td>1133 - 1384</td>\n",
       "      <td>2.0</td>\n",
       "      <td>59.135</td>\n",
       "      <td>2</td>\n",
       "    </tr>\n",
       "    <tr>\n",
       "      <th>13299</th>\n",
       "      <td>Whitefield</td>\n",
       "      <td>4 BHK</td>\n",
       "      <td>2830 - 2882</td>\n",
       "      <td>5.0</td>\n",
       "      <td>154.500</td>\n",
       "      <td>4</td>\n",
       "    </tr>\n",
       "  </tbody>\n",
       "</table>\n",
       "<p>144 rows × 6 columns</p>\n",
       "</div>"
      ],
      "text/plain": [
       "                 location   size   total_sqft  bath    price  bhk\n",
       "30              Yelahanka  4 BHK  2100 - 2850   4.0  186.000    4\n",
       "122                Hebbal  4 BHK  3067 - 8156   4.0  477.000    4\n",
       "137    8th Phase JP Nagar  2 BHK  1042 - 1105   2.0   54.005    2\n",
       "165              Sarjapur  2 BHK  1145 - 1340   2.0   43.490    2\n",
       "188              KR Puram  2 BHK  1015 - 1540   2.0   56.800    2\n",
       "...                   ...    ...          ...   ...      ...  ...\n",
       "12975          Whitefield  2 BHK   850 - 1060   2.0   38.190    2\n",
       "12990      Talaghattapura  3 BHK  1804 - 2273   3.0  122.000    3\n",
       "13059              Harlur  2 BHK  1200 - 1470   2.0   72.760    2\n",
       "13265               Hoodi  2 BHK  1133 - 1384   2.0   59.135    2\n",
       "13299          Whitefield  4 BHK  2830 - 2882   5.0  154.500    4\n",
       "\n",
       "[144 rows x 6 columns]"
      ]
     },
     "execution_count": 18,
     "metadata": {},
     "output_type": "execute_result"
    }
   ],
   "source": [
    "df3.iloc[l,:]"
   ]
  },
  {
   "cell_type": "code",
   "execution_count": 19,
   "metadata": {
    "execution": {
     "iopub.execute_input": "2020-08-27T17:29:49.683463Z",
     "iopub.status.busy": "2020-08-27T17:29:49.682819Z",
     "iopub.status.idle": "2020-08-27T17:29:49.688170Z",
     "shell.execute_reply": "2020-08-27T17:29:49.687459Z"
    },
    "id": "-F7OQN_DkpTP",
    "papermill": {
     "duration": 0.050718,
     "end_time": "2020-08-27T17:29:49.688290",
     "exception": false,
     "start_time": "2020-08-27T17:29:49.637572",
     "status": "completed"
    },
    "tags": []
   },
   "outputs": [],
   "source": [
    "\n",
    "def convert_sqft_to_num(x):\n",
    "    tokens = x.split('-')\n",
    "    if len(tokens) == 2:\n",
    "        return (float(tokens[0])+float(tokens[1]))/2\n",
    "    try:\n",
    "        return float(x)\n",
    "    except:\n",
    "        return None"
   ]
  },
  {
   "cell_type": "code",
   "execution_count": 20,
   "metadata": {
    "execution": {
     "iopub.execute_input": "2020-08-27T17:29:49.777113Z",
     "iopub.status.busy": "2020-08-27T17:29:49.776365Z",
     "iopub.status.idle": "2020-08-27T17:29:49.800935Z",
     "shell.execute_reply": "2020-08-27T17:29:49.800220Z"
    },
    "executionInfo": {
     "elapsed": 5236,
     "status": "ok",
     "timestamp": 1587378785703,
     "user": {
      "displayName": "Aniket Yadav",
      "photoUrl": "https://lh3.googleusercontent.com/a-/AOh14GhCGjdGVIvP9Y3sjNgXbHXgTZCE7GEameN2e4vBbQ=s64",
      "userId": "04539006983376047031"
     },
     "user_tz": -330
    },
    "id": "Lf-hhDbIoa0i",
    "outputId": "5c9f1ee3-99b5-4861-f4ed-adf7d6a64f07",
    "papermill": {
     "duration": 0.071136,
     "end_time": "2020-08-27T17:29:49.801055",
     "exception": false,
     "start_time": "2020-08-27T17:29:49.729919",
     "status": "completed"
    },
    "tags": []
   },
   "outputs": [
    {
     "data": {
      "text/html": [
       "<div>\n",
       "<style scoped>\n",
       "    .dataframe tbody tr th:only-of-type {\n",
       "        vertical-align: middle;\n",
       "    }\n",
       "\n",
       "    .dataframe tbody tr th {\n",
       "        vertical-align: top;\n",
       "    }\n",
       "\n",
       "    .dataframe thead th {\n",
       "        text-align: right;\n",
       "    }\n",
       "</style>\n",
       "<table border=\"1\" class=\"dataframe\">\n",
       "  <thead>\n",
       "    <tr style=\"text-align: right;\">\n",
       "      <th></th>\n",
       "      <th>location</th>\n",
       "      <th>size</th>\n",
       "      <th>total_sqft</th>\n",
       "      <th>bath</th>\n",
       "      <th>price</th>\n",
       "      <th>bhk</th>\n",
       "    </tr>\n",
       "  </thead>\n",
       "  <tbody>\n",
       "    <tr>\n",
       "      <th>0</th>\n",
       "      <td>Electronic City Phase II</td>\n",
       "      <td>2 BHK</td>\n",
       "      <td>1056.0</td>\n",
       "      <td>2.0</td>\n",
       "      <td>39.07</td>\n",
       "      <td>2</td>\n",
       "    </tr>\n",
       "    <tr>\n",
       "      <th>1</th>\n",
       "      <td>Chikka Tirupathi</td>\n",
       "      <td>4 Bedroom</td>\n",
       "      <td>2600.0</td>\n",
       "      <td>5.0</td>\n",
       "      <td>120.00</td>\n",
       "      <td>4</td>\n",
       "    </tr>\n",
       "    <tr>\n",
       "      <th>2</th>\n",
       "      <td>Uttarahalli</td>\n",
       "      <td>3 BHK</td>\n",
       "      <td>1440.0</td>\n",
       "      <td>2.0</td>\n",
       "      <td>62.00</td>\n",
       "      <td>3</td>\n",
       "    </tr>\n",
       "    <tr>\n",
       "      <th>3</th>\n",
       "      <td>Lingadheeranahalli</td>\n",
       "      <td>3 BHK</td>\n",
       "      <td>1521.0</td>\n",
       "      <td>3.0</td>\n",
       "      <td>95.00</td>\n",
       "      <td>3</td>\n",
       "    </tr>\n",
       "    <tr>\n",
       "      <th>4</th>\n",
       "      <td>Kothanur</td>\n",
       "      <td>2 BHK</td>\n",
       "      <td>1200.0</td>\n",
       "      <td>2.0</td>\n",
       "      <td>51.00</td>\n",
       "      <td>2</td>\n",
       "    </tr>\n",
       "  </tbody>\n",
       "</table>\n",
       "</div>"
      ],
      "text/plain": [
       "                   location       size  total_sqft  bath   price  bhk\n",
       "0  Electronic City Phase II      2 BHK      1056.0   2.0   39.07    2\n",
       "1          Chikka Tirupathi  4 Bedroom      2600.0   5.0  120.00    4\n",
       "2               Uttarahalli      3 BHK      1440.0   2.0   62.00    3\n",
       "3        Lingadheeranahalli      3 BHK      1521.0   3.0   95.00    3\n",
       "4                  Kothanur      2 BHK      1200.0   2.0   51.00    2"
      ]
     },
     "execution_count": 20,
     "metadata": {},
     "output_type": "execute_result"
    }
   ],
   "source": [
    "\n",
    "df4 = df3.copy()\n",
    "df4.total_sqft = df4.total_sqft.apply(convert_sqft_to_num)\n",
    "df4 = df4[df4.total_sqft.notnull()]\n",
    "df4.head(5)"
   ]
  },
  {
   "cell_type": "code",
   "execution_count": 21,
   "metadata": {
    "execution": {
     "iopub.execute_input": "2020-08-27T17:29:49.885948Z",
     "iopub.status.busy": "2020-08-27T17:29:49.885237Z",
     "iopub.status.idle": "2020-08-27T17:29:49.891033Z",
     "shell.execute_reply": "2020-08-27T17:29:49.891462Z"
    },
    "executionInfo": {
     "elapsed": 5214,
     "status": "ok",
     "timestamp": 1587378785706,
     "user": {
      "displayName": "Aniket Yadav",
      "photoUrl": "https://lh3.googleusercontent.com/a-/AOh14GhCGjdGVIvP9Y3sjNgXbHXgTZCE7GEameN2e4vBbQ=s64",
      "userId": "04539006983376047031"
     },
     "user_tz": -330
    },
    "id": "kxsWkqdDodrk",
    "outputId": "44b5b2ae-d53f-44bd-bfd0-4f27662c5af3",
    "papermill": {
     "duration": 0.050588,
     "end_time": "2020-08-27T17:29:49.891639",
     "exception": false,
     "start_time": "2020-08-27T17:29:49.841051",
     "status": "completed"
    },
    "tags": []
   },
   "outputs": [
    {
     "data": {
      "text/plain": [
       "location      Yelahanka\n",
       "size              4 BHK\n",
       "total_sqft         2475\n",
       "bath                  4\n",
       "price               186\n",
       "bhk                   4\n",
       "Name: 30, dtype: object"
      ]
     },
     "execution_count": 21,
     "metadata": {},
     "output_type": "execute_result"
    }
   ],
   "source": [
    "\n",
    "df4.loc[30]"
   ]
  },
  {
   "cell_type": "code",
   "execution_count": 22,
   "metadata": {
    "execution": {
     "iopub.execute_input": "2020-08-27T17:29:49.979153Z",
     "iopub.status.busy": "2020-08-27T17:29:49.978226Z",
     "iopub.status.idle": "2020-08-27T17:29:49.982342Z",
     "shell.execute_reply": "2020-08-27T17:29:49.982897Z"
    },
    "executionInfo": {
     "elapsed": 5176,
     "status": "ok",
     "timestamp": 1587378785709,
     "user": {
      "displayName": "Aniket Yadav",
      "photoUrl": "https://lh3.googleusercontent.com/a-/AOh14GhCGjdGVIvP9Y3sjNgXbHXgTZCE7GEameN2e4vBbQ=s64",
      "userId": "04539006983376047031"
     },
     "user_tz": -330
    },
    "id": "bm0tfl5opdH1",
    "outputId": "fc0575cf-57af-4792-a503-3de1a03bb76e",
    "papermill": {
     "duration": 0.051067,
     "end_time": "2020-08-27T17:29:49.983050",
     "exception": false,
     "start_time": "2020-08-27T17:29:49.931983",
     "status": "completed"
    },
    "tags": []
   },
   "outputs": [
    {
     "data": {
      "text/plain": [
       "2475.0"
      ]
     },
     "execution_count": 22,
     "metadata": {},
     "output_type": "execute_result"
    }
   ],
   "source": [
    "(2100+2850)/2"
   ]
  },
  {
   "cell_type": "code",
   "execution_count": 23,
   "metadata": {
    "execution": {
     "iopub.execute_input": "2020-08-27T17:29:50.070929Z",
     "iopub.status.busy": "2020-08-27T17:29:50.070089Z",
     "iopub.status.idle": "2020-08-27T17:29:50.086835Z",
     "shell.execute_reply": "2020-08-27T17:29:50.086227Z"
    },
    "executionInfo": {
     "elapsed": 5159,
     "status": "ok",
     "timestamp": 1587378785710,
     "user": {
      "displayName": "Aniket Yadav",
      "photoUrl": "https://lh3.googleusercontent.com/a-/AOh14GhCGjdGVIvP9Y3sjNgXbHXgTZCE7GEameN2e4vBbQ=s64",
      "userId": "04539006983376047031"
     },
     "user_tz": -330
    },
    "id": "iGUOSY8wpg7S",
    "outputId": "40cc2928-205e-455a-cddb-56c1e6b30ae9",
    "papermill": {
     "duration": 0.062702,
     "end_time": "2020-08-27T17:29:50.086949",
     "exception": false,
     "start_time": "2020-08-27T17:29:50.024247",
     "status": "completed"
    },
    "tags": []
   },
   "outputs": [
    {
     "data": {
      "text/html": [
       "<div>\n",
       "<style scoped>\n",
       "    .dataframe tbody tr th:only-of-type {\n",
       "        vertical-align: middle;\n",
       "    }\n",
       "\n",
       "    .dataframe tbody tr th {\n",
       "        vertical-align: top;\n",
       "    }\n",
       "\n",
       "    .dataframe thead th {\n",
       "        text-align: right;\n",
       "    }\n",
       "</style>\n",
       "<table border=\"1\" class=\"dataframe\">\n",
       "  <thead>\n",
       "    <tr style=\"text-align: right;\">\n",
       "      <th></th>\n",
       "      <th>location</th>\n",
       "      <th>size</th>\n",
       "      <th>total_sqft</th>\n",
       "      <th>bath</th>\n",
       "      <th>price</th>\n",
       "      <th>bhk</th>\n",
       "      <th>price_per_sqft</th>\n",
       "    </tr>\n",
       "  </thead>\n",
       "  <tbody>\n",
       "    <tr>\n",
       "      <th>0</th>\n",
       "      <td>Electronic City Phase II</td>\n",
       "      <td>2 BHK</td>\n",
       "      <td>1056.0</td>\n",
       "      <td>2.0</td>\n",
       "      <td>39.07</td>\n",
       "      <td>2</td>\n",
       "      <td>3699.810606</td>\n",
       "    </tr>\n",
       "    <tr>\n",
       "      <th>1</th>\n",
       "      <td>Chikka Tirupathi</td>\n",
       "      <td>4 Bedroom</td>\n",
       "      <td>2600.0</td>\n",
       "      <td>5.0</td>\n",
       "      <td>120.00</td>\n",
       "      <td>4</td>\n",
       "      <td>4615.384615</td>\n",
       "    </tr>\n",
       "    <tr>\n",
       "      <th>2</th>\n",
       "      <td>Uttarahalli</td>\n",
       "      <td>3 BHK</td>\n",
       "      <td>1440.0</td>\n",
       "      <td>2.0</td>\n",
       "      <td>62.00</td>\n",
       "      <td>3</td>\n",
       "      <td>4305.555556</td>\n",
       "    </tr>\n",
       "    <tr>\n",
       "      <th>3</th>\n",
       "      <td>Lingadheeranahalli</td>\n",
       "      <td>3 BHK</td>\n",
       "      <td>1521.0</td>\n",
       "      <td>3.0</td>\n",
       "      <td>95.00</td>\n",
       "      <td>3</td>\n",
       "      <td>6245.890861</td>\n",
       "    </tr>\n",
       "    <tr>\n",
       "      <th>4</th>\n",
       "      <td>Kothanur</td>\n",
       "      <td>2 BHK</td>\n",
       "      <td>1200.0</td>\n",
       "      <td>2.0</td>\n",
       "      <td>51.00</td>\n",
       "      <td>2</td>\n",
       "      <td>4250.000000</td>\n",
       "    </tr>\n",
       "  </tbody>\n",
       "</table>\n",
       "</div>"
      ],
      "text/plain": [
       "                   location       size  total_sqft  bath   price  bhk  \\\n",
       "0  Electronic City Phase II      2 BHK      1056.0   2.0   39.07    2   \n",
       "1          Chikka Tirupathi  4 Bedroom      2600.0   5.0  120.00    4   \n",
       "2               Uttarahalli      3 BHK      1440.0   2.0   62.00    3   \n",
       "3        Lingadheeranahalli      3 BHK      1521.0   3.0   95.00    3   \n",
       "4                  Kothanur      2 BHK      1200.0   2.0   51.00    2   \n",
       "\n",
       "   price_per_sqft  \n",
       "0     3699.810606  \n",
       "1     4615.384615  \n",
       "2     4305.555556  \n",
       "3     6245.890861  \n",
       "4     4250.000000  "
      ]
     },
     "execution_count": 23,
     "metadata": {},
     "output_type": "execute_result"
    }
   ],
   "source": [
    "df5 = df4.copy()\n",
    "df5['price_per_sqft'] = df5['price']*100000/df5['total_sqft']\n",
    "df5.head()\n"
   ]
  },
  {
   "cell_type": "code",
   "execution_count": 24,
   "metadata": {
    "execution": {
     "iopub.execute_input": "2020-08-27T17:29:50.176916Z",
     "iopub.status.busy": "2020-08-27T17:29:50.176183Z",
     "iopub.status.idle": "2020-08-27T17:29:50.180701Z",
     "shell.execute_reply": "2020-08-27T17:29:50.180166Z"
    },
    "executionInfo": {
     "elapsed": 5140,
     "status": "ok",
     "timestamp": 1587378785711,
     "user": {
      "displayName": "Aniket Yadav",
      "photoUrl": "https://lh3.googleusercontent.com/a-/AOh14GhCGjdGVIvP9Y3sjNgXbHXgTZCE7GEameN2e4vBbQ=s64",
      "userId": "04539006983376047031"
     },
     "user_tz": -330
    },
    "id": "LdYeqmB1pmDA",
    "outputId": "70a07eb7-f989-4dac-c016-bcbe96c95bb7",
    "papermill": {
     "duration": 0.051969,
     "end_time": "2020-08-27T17:29:50.180817",
     "exception": false,
     "start_time": "2020-08-27T17:29:50.128848",
     "status": "completed"
    },
    "tags": []
   },
   "outputs": [
    {
     "data": {
      "text/plain": [
       "location          Amco Colony\n",
       "size                    3 BHK\n",
       "total_sqft               1760\n",
       "bath                        3\n",
       "price                      88\n",
       "bhk                         3\n",
       "price_per_sqft           5000\n",
       "Name: 415, dtype: object"
      ]
     },
     "execution_count": 24,
     "metadata": {},
     "output_type": "execute_result"
    }
   ],
   "source": [
    "df5.iloc[410]"
   ]
  },
  {
   "cell_type": "code",
   "execution_count": 25,
   "metadata": {
    "execution": {
     "iopub.execute_input": "2020-08-27T17:29:50.272267Z",
     "iopub.status.busy": "2020-08-27T17:29:50.271508Z",
     "iopub.status.idle": "2020-08-27T17:29:50.281951Z",
     "shell.execute_reply": "2020-08-27T17:29:50.282475Z"
    },
    "executionInfo": {
     "elapsed": 5116,
     "status": "ok",
     "timestamp": 1587378785712,
     "user": {
      "displayName": "Aniket Yadav",
      "photoUrl": "https://lh3.googleusercontent.com/a-/AOh14GhCGjdGVIvP9Y3sjNgXbHXgTZCE7GEameN2e4vBbQ=s64",
      "userId": "04539006983376047031"
     },
     "user_tz": -330
    },
    "id": "K9ts4GNMqxoQ",
    "outputId": "be4ed58b-0883-42bf-ab6f-80976839c6cc",
    "papermill": {
     "duration": 0.059974,
     "end_time": "2020-08-27T17:29:50.282643",
     "exception": false,
     "start_time": "2020-08-27T17:29:50.222669",
     "status": "completed"
    },
    "tags": []
   },
   "outputs": [
    {
     "data": {
      "text/plain": [
       "count    1.320000e+04\n",
       "mean     7.920759e+03\n",
       "std      1.067272e+05\n",
       "min      2.678298e+02\n",
       "25%      4.267701e+03\n",
       "50%      5.438331e+03\n",
       "75%      7.317073e+03\n",
       "max      1.200000e+07\n",
       "Name: price_per_sqft, dtype: float64"
      ]
     },
     "execution_count": 25,
     "metadata": {},
     "output_type": "execute_result"
    }
   ],
   "source": [
    "df5_stats = df5['price_per_sqft'].describe()\n",
    "df5_stats"
   ]
  },
  {
   "cell_type": "code",
   "execution_count": 26,
   "metadata": {
    "execution": {
     "iopub.execute_input": "2020-08-27T17:29:50.382927Z",
     "iopub.status.busy": "2020-08-27T17:29:50.380026Z",
     "iopub.status.idle": "2020-08-27T17:29:50.387255Z",
     "shell.execute_reply": "2020-08-27T17:29:50.386636Z"
    },
    "executionInfo": {
     "elapsed": 6996,
     "status": "ok",
     "timestamp": 1587378787614,
     "user": {
      "displayName": "Aniket Yadav",
      "photoUrl": "https://lh3.googleusercontent.com/a-/AOh14GhCGjdGVIvP9Y3sjNgXbHXgTZCE7GEameN2e4vBbQ=s64",
      "userId": "04539006983376047031"
     },
     "user_tz": -330
    },
    "id": "RAd5lNnorVdO",
    "outputId": "d7e660f0-d397-401a-f535-6f0826ada958",
    "papermill": {
     "duration": 0.062066,
     "end_time": "2020-08-27T17:29:50.387368",
     "exception": false,
     "start_time": "2020-08-27T17:29:50.325302",
     "status": "completed"
    },
    "tags": []
   },
   "outputs": [
    {
     "data": {
      "text/plain": [
       "Whitefield              533\n",
       "Sarjapur  Road          392\n",
       "Electronic City         304\n",
       "Kanakpura Road          264\n",
       "Thanisandra             235\n",
       "                       ... \n",
       "Banashankari Stage I      1\n",
       "Nirman Layout             1\n",
       "Jeevanhalli               1\n",
       "Punappa Layout            1\n",
       "Ganganahalli              1\n",
       "Name: location, Length: 1287, dtype: int64"
      ]
     },
     "execution_count": 26,
     "metadata": {},
     "output_type": "execute_result"
    }
   ],
   "source": [
    "df5.location = df5.location.apply(lambda x: x.strip())\n",
    "location_stats = df5['location'].value_counts(ascending=False)\n",
    "location_stats"
   ]
  },
  {
   "cell_type": "code",
   "execution_count": 27,
   "metadata": {
    "execution": {
     "iopub.execute_input": "2020-08-27T17:29:50.528253Z",
     "iopub.status.busy": "2020-08-27T17:29:50.527523Z",
     "iopub.status.idle": "2020-08-27T17:29:50.531731Z",
     "shell.execute_reply": "2020-08-27T17:29:50.531112Z"
    },
    "executionInfo": {
     "elapsed": 6976,
     "status": "ok",
     "timestamp": 1587378787616,
     "user": {
      "displayName": "Aniket Yadav",
      "photoUrl": "https://lh3.googleusercontent.com/a-/AOh14GhCGjdGVIvP9Y3sjNgXbHXgTZCE7GEameN2e4vBbQ=s64",
      "userId": "04539006983376047031"
     },
     "user_tz": -330
    },
    "id": "LYiaxVWCraMg",
    "outputId": "bbb96c08-a8dc-42c7-c13f-c76987ba79e8",
    "papermill": {
     "duration": 0.052897,
     "end_time": "2020-08-27T17:29:50.531848",
     "exception": false,
     "start_time": "2020-08-27T17:29:50.478951",
     "status": "completed"
    },
    "tags": []
   },
   "outputs": [
    {
     "data": {
      "text/plain": [
       "13200"
      ]
     },
     "execution_count": 27,
     "metadata": {},
     "output_type": "execute_result"
    }
   ],
   "source": [
    "location_stats.values.sum()\n"
   ]
  },
  {
   "cell_type": "code",
   "execution_count": 28,
   "metadata": {
    "execution": {
     "iopub.execute_input": "2020-08-27T17:29:50.623873Z",
     "iopub.status.busy": "2020-08-27T17:29:50.622993Z",
     "iopub.status.idle": "2020-08-27T17:29:50.627416Z",
     "shell.execute_reply": "2020-08-27T17:29:50.626901Z"
    },
    "executionInfo": {
     "elapsed": 6952,
     "status": "ok",
     "timestamp": 1587378787617,
     "user": {
      "displayName": "Aniket Yadav",
      "photoUrl": "https://lh3.googleusercontent.com/a-/AOh14GhCGjdGVIvP9Y3sjNgXbHXgTZCE7GEameN2e4vBbQ=s64",
      "userId": "04539006983376047031"
     },
     "user_tz": -330
    },
    "id": "tKg4ARhCr-Hr",
    "outputId": "f425ed08-4572-4601-9b4a-a062625be0a6",
    "papermill": {
     "duration": 0.052831,
     "end_time": "2020-08-27T17:29:50.627552",
     "exception": false,
     "start_time": "2020-08-27T17:29:50.574721",
     "status": "completed"
    },
    "tags": []
   },
   "outputs": [
    {
     "data": {
      "text/plain": [
       "240"
      ]
     },
     "execution_count": 28,
     "metadata": {},
     "output_type": "execute_result"
    }
   ],
   "source": [
    "len(location_stats[location_stats>10])\n"
   ]
  },
  {
   "cell_type": "code",
   "execution_count": 29,
   "metadata": {
    "execution": {
     "iopub.execute_input": "2020-08-27T17:29:50.720785Z",
     "iopub.status.busy": "2020-08-27T17:29:50.719939Z",
     "iopub.status.idle": "2020-08-27T17:29:50.724293Z",
     "shell.execute_reply": "2020-08-27T17:29:50.723772Z"
    },
    "executionInfo": {
     "elapsed": 6932,
     "status": "ok",
     "timestamp": 1587378787618,
     "user": {
      "displayName": "Aniket Yadav",
      "photoUrl": "https://lh3.googleusercontent.com/a-/AOh14GhCGjdGVIvP9Y3sjNgXbHXgTZCE7GEameN2e4vBbQ=s64",
      "userId": "04539006983376047031"
     },
     "user_tz": -330
    },
    "id": "PnbtJRA3sBij",
    "outputId": "6fbf5bcc-6dc8-449f-ac61-c15044c5bf07",
    "papermill": {
     "duration": 0.052979,
     "end_time": "2020-08-27T17:29:50.724408",
     "exception": false,
     "start_time": "2020-08-27T17:29:50.671429",
     "status": "completed"
    },
    "tags": []
   },
   "outputs": [
    {
     "data": {
      "text/plain": [
       "1287"
      ]
     },
     "execution_count": 29,
     "metadata": {},
     "output_type": "execute_result"
    }
   ],
   "source": [
    "len(location_stats)\n"
   ]
  },
  {
   "cell_type": "code",
   "execution_count": 30,
   "metadata": {
    "execution": {
     "iopub.execute_input": "2020-08-27T17:29:50.818875Z",
     "iopub.status.busy": "2020-08-27T17:29:50.818138Z",
     "iopub.status.idle": "2020-08-27T17:29:50.822910Z",
     "shell.execute_reply": "2020-08-27T17:29:50.822268Z"
    },
    "executionInfo": {
     "elapsed": 6884,
     "status": "ok",
     "timestamp": 1587378787619,
     "user": {
      "displayName": "Aniket Yadav",
      "photoUrl": "https://lh3.googleusercontent.com/a-/AOh14GhCGjdGVIvP9Y3sjNgXbHXgTZCE7GEameN2e4vBbQ=s64",
      "userId": "04539006983376047031"
     },
     "user_tz": -330
    },
    "id": "ZkKjBRqSsDoR",
    "outputId": "601be3eb-bbd7-4705-a075-e0fa9072cc75",
    "papermill": {
     "duration": 0.054338,
     "end_time": "2020-08-27T17:29:50.823026",
     "exception": false,
     "start_time": "2020-08-27T17:29:50.768688",
     "status": "completed"
    },
    "tags": []
   },
   "outputs": [
    {
     "data": {
      "text/plain": [
       "1047"
      ]
     },
     "execution_count": 30,
     "metadata": {},
     "output_type": "execute_result"
    }
   ],
   "source": [
    "len(location_stats[location_stats<=10])\n"
   ]
  },
  {
   "cell_type": "code",
   "execution_count": 31,
   "metadata": {
    "execution": {
     "iopub.execute_input": "2020-08-27T17:29:50.922350Z",
     "iopub.status.busy": "2020-08-27T17:29:50.921337Z",
     "iopub.status.idle": "2020-08-27T17:29:50.925485Z",
     "shell.execute_reply": "2020-08-27T17:29:50.925974Z"
    },
    "executionInfo": {
     "elapsed": 6856,
     "status": "ok",
     "timestamp": 1587378787619,
     "user": {
      "displayName": "Aniket Yadav",
      "photoUrl": "https://lh3.googleusercontent.com/a-/AOh14GhCGjdGVIvP9Y3sjNgXbHXgTZCE7GEameN2e4vBbQ=s64",
      "userId": "04539006983376047031"
     },
     "user_tz": -330
    },
    "id": "-rDflWHDsFxz",
    "outputId": "116654bd-32ad-4680-e55c-952238750ed1",
    "papermill": {
     "duration": 0.057517,
     "end_time": "2020-08-27T17:29:50.926145",
     "exception": false,
     "start_time": "2020-08-27T17:29:50.868628",
     "status": "completed"
    },
    "tags": []
   },
   "outputs": [
    {
     "data": {
      "text/plain": [
       "Nagadevanahalli         10\n",
       "Thyagaraja Nagar        10\n",
       "Sadashiva Nagar         10\n",
       "Nagappa Reddy Layout    10\n",
       "BTM 1st Stage           10\n",
       "                        ..\n",
       "Banashankari Stage I     1\n",
       "Nirman Layout            1\n",
       "Jeevanhalli              1\n",
       "Punappa Layout           1\n",
       "Ganganahalli             1\n",
       "Name: location, Length: 1047, dtype: int64"
      ]
     },
     "execution_count": 31,
     "metadata": {},
     "output_type": "execute_result"
    }
   ],
   "source": [
    "location_stats_less_than_10 = location_stats[location_stats<=10]\n",
    "location_stats_less_than_10"
   ]
  },
  {
   "cell_type": "code",
   "execution_count": 32,
   "metadata": {
    "execution": {
     "iopub.execute_input": "2020-08-27T17:29:51.024037Z",
     "iopub.status.busy": "2020-08-27T17:29:51.022817Z",
     "iopub.status.idle": "2020-08-27T17:29:51.028754Z",
     "shell.execute_reply": "2020-08-27T17:29:51.028085Z"
    },
    "executionInfo": {
     "elapsed": 6834,
     "status": "ok",
     "timestamp": 1587378787622,
     "user": {
      "displayName": "Aniket Yadav",
      "photoUrl": "https://lh3.googleusercontent.com/a-/AOh14GhCGjdGVIvP9Y3sjNgXbHXgTZCE7GEameN2e4vBbQ=s64",
      "userId": "04539006983376047031"
     },
     "user_tz": -330
    },
    "id": "cC1x-6UQtFDj",
    "outputId": "9c89ae4e-9ec5-481b-d68e-828987127971",
    "papermill": {
     "duration": 0.057771,
     "end_time": "2020-08-27T17:29:51.028883",
     "exception": false,
     "start_time": "2020-08-27T17:29:50.971112",
     "status": "completed"
    },
    "tags": []
   },
   "outputs": [
    {
     "data": {
      "text/plain": [
       "1287"
      ]
     },
     "execution_count": 32,
     "metadata": {},
     "output_type": "execute_result"
    }
   ],
   "source": [
    "len(df5.location.unique())\n"
   ]
  },
  {
   "cell_type": "code",
   "execution_count": 33,
   "metadata": {
    "execution": {
     "iopub.execute_input": "2020-08-27T17:29:51.132672Z",
     "iopub.status.busy": "2020-08-27T17:29:51.131934Z",
     "iopub.status.idle": "2020-08-27T17:29:51.155860Z",
     "shell.execute_reply": "2020-08-27T17:29:51.155168Z"
    },
    "executionInfo": {
     "elapsed": 6814,
     "status": "ok",
     "timestamp": 1587378787623,
     "user": {
      "displayName": "Aniket Yadav",
      "photoUrl": "https://lh3.googleusercontent.com/a-/AOh14GhCGjdGVIvP9Y3sjNgXbHXgTZCE7GEameN2e4vBbQ=s64",
      "userId": "04539006983376047031"
     },
     "user_tz": -330
    },
    "id": "6Yx-fUtEucXg",
    "outputId": "40274aa8-8c26-4bab-a2d2-fc4f25d22077",
    "papermill": {
     "duration": 0.080559,
     "end_time": "2020-08-27T17:29:51.155980",
     "exception": false,
     "start_time": "2020-08-27T17:29:51.075421",
     "status": "completed"
    },
    "tags": []
   },
   "outputs": [
    {
     "data": {
      "text/plain": [
       "241"
      ]
     },
     "execution_count": 33,
     "metadata": {},
     "output_type": "execute_result"
    }
   ],
   "source": [
    "df5.location = df5.location.apply(lambda x: 'other' if x in location_stats_less_than_10 else x)\n",
    "len(df5.location.unique())"
   ]
  },
  {
   "cell_type": "code",
   "execution_count": 34,
   "metadata": {
    "execution": {
     "iopub.execute_input": "2020-08-27T17:29:51.265119Z",
     "iopub.status.busy": "2020-08-27T17:29:51.263929Z",
     "iopub.status.idle": "2020-08-27T17:29:51.268999Z",
     "shell.execute_reply": "2020-08-27T17:29:51.268323Z"
    },
    "executionInfo": {
     "elapsed": 6792,
     "status": "ok",
     "timestamp": 1587378787624,
     "user": {
      "displayName": "Aniket Yadav",
      "photoUrl": "https://lh3.googleusercontent.com/a-/AOh14GhCGjdGVIvP9Y3sjNgXbHXgTZCE7GEameN2e4vBbQ=s64",
      "userId": "04539006983376047031"
     },
     "user_tz": -330
    },
    "id": "p6THRPP0VPrp",
    "outputId": "b1226d43-1004-4018-aaf8-acb7a089daad",
    "papermill": {
     "duration": 0.066533,
     "end_time": "2020-08-27T17:29:51.269210",
     "exception": false,
     "start_time": "2020-08-27T17:29:51.202677",
     "status": "completed"
    },
    "tags": []
   },
   "outputs": [
    {
     "data": {
      "text/html": [
       "<div>\n",
       "<style scoped>\n",
       "    .dataframe tbody tr th:only-of-type {\n",
       "        vertical-align: middle;\n",
       "    }\n",
       "\n",
       "    .dataframe tbody tr th {\n",
       "        vertical-align: top;\n",
       "    }\n",
       "\n",
       "    .dataframe thead th {\n",
       "        text-align: right;\n",
       "    }\n",
       "</style>\n",
       "<table border=\"1\" class=\"dataframe\">\n",
       "  <thead>\n",
       "    <tr style=\"text-align: right;\">\n",
       "      <th></th>\n",
       "      <th>location</th>\n",
       "      <th>size</th>\n",
       "      <th>total_sqft</th>\n",
       "      <th>bath</th>\n",
       "      <th>price</th>\n",
       "      <th>bhk</th>\n",
       "      <th>price_per_sqft</th>\n",
       "    </tr>\n",
       "  </thead>\n",
       "  <tbody>\n",
       "    <tr>\n",
       "      <th>0</th>\n",
       "      <td>Electronic City Phase II</td>\n",
       "      <td>2 BHK</td>\n",
       "      <td>1056.0</td>\n",
       "      <td>2.0</td>\n",
       "      <td>39.07</td>\n",
       "      <td>2</td>\n",
       "      <td>3699.810606</td>\n",
       "    </tr>\n",
       "    <tr>\n",
       "      <th>1</th>\n",
       "      <td>Chikka Tirupathi</td>\n",
       "      <td>4 Bedroom</td>\n",
       "      <td>2600.0</td>\n",
       "      <td>5.0</td>\n",
       "      <td>120.00</td>\n",
       "      <td>4</td>\n",
       "      <td>4615.384615</td>\n",
       "    </tr>\n",
       "    <tr>\n",
       "      <th>2</th>\n",
       "      <td>Uttarahalli</td>\n",
       "      <td>3 BHK</td>\n",
       "      <td>1440.0</td>\n",
       "      <td>2.0</td>\n",
       "      <td>62.00</td>\n",
       "      <td>3</td>\n",
       "      <td>4305.555556</td>\n",
       "    </tr>\n",
       "    <tr>\n",
       "      <th>3</th>\n",
       "      <td>Lingadheeranahalli</td>\n",
       "      <td>3 BHK</td>\n",
       "      <td>1521.0</td>\n",
       "      <td>3.0</td>\n",
       "      <td>95.00</td>\n",
       "      <td>3</td>\n",
       "      <td>6245.890861</td>\n",
       "    </tr>\n",
       "    <tr>\n",
       "      <th>4</th>\n",
       "      <td>Kothanur</td>\n",
       "      <td>2 BHK</td>\n",
       "      <td>1200.0</td>\n",
       "      <td>2.0</td>\n",
       "      <td>51.00</td>\n",
       "      <td>2</td>\n",
       "      <td>4250.000000</td>\n",
       "    </tr>\n",
       "    <tr>\n",
       "      <th>5</th>\n",
       "      <td>Whitefield</td>\n",
       "      <td>2 BHK</td>\n",
       "      <td>1170.0</td>\n",
       "      <td>2.0</td>\n",
       "      <td>38.00</td>\n",
       "      <td>2</td>\n",
       "      <td>3247.863248</td>\n",
       "    </tr>\n",
       "    <tr>\n",
       "      <th>6</th>\n",
       "      <td>Old Airport Road</td>\n",
       "      <td>4 BHK</td>\n",
       "      <td>2732.0</td>\n",
       "      <td>4.0</td>\n",
       "      <td>204.00</td>\n",
       "      <td>4</td>\n",
       "      <td>7467.057101</td>\n",
       "    </tr>\n",
       "    <tr>\n",
       "      <th>7</th>\n",
       "      <td>Rajaji Nagar</td>\n",
       "      <td>4 BHK</td>\n",
       "      <td>3300.0</td>\n",
       "      <td>4.0</td>\n",
       "      <td>600.00</td>\n",
       "      <td>4</td>\n",
       "      <td>18181.818182</td>\n",
       "    </tr>\n",
       "    <tr>\n",
       "      <th>8</th>\n",
       "      <td>Marathahalli</td>\n",
       "      <td>3 BHK</td>\n",
       "      <td>1310.0</td>\n",
       "      <td>3.0</td>\n",
       "      <td>63.25</td>\n",
       "      <td>3</td>\n",
       "      <td>4828.244275</td>\n",
       "    </tr>\n",
       "    <tr>\n",
       "      <th>9</th>\n",
       "      <td>other</td>\n",
       "      <td>6 Bedroom</td>\n",
       "      <td>1020.0</td>\n",
       "      <td>6.0</td>\n",
       "      <td>370.00</td>\n",
       "      <td>6</td>\n",
       "      <td>36274.509804</td>\n",
       "    </tr>\n",
       "  </tbody>\n",
       "</table>\n",
       "</div>"
      ],
      "text/plain": [
       "                   location       size  total_sqft  bath   price  bhk  \\\n",
       "0  Electronic City Phase II      2 BHK      1056.0   2.0   39.07    2   \n",
       "1          Chikka Tirupathi  4 Bedroom      2600.0   5.0  120.00    4   \n",
       "2               Uttarahalli      3 BHK      1440.0   2.0   62.00    3   \n",
       "3        Lingadheeranahalli      3 BHK      1521.0   3.0   95.00    3   \n",
       "4                  Kothanur      2 BHK      1200.0   2.0   51.00    2   \n",
       "5                Whitefield      2 BHK      1170.0   2.0   38.00    2   \n",
       "6          Old Airport Road      4 BHK      2732.0   4.0  204.00    4   \n",
       "7              Rajaji Nagar      4 BHK      3300.0   4.0  600.00    4   \n",
       "8              Marathahalli      3 BHK      1310.0   3.0   63.25    3   \n",
       "9                     other  6 Bedroom      1020.0   6.0  370.00    6   \n",
       "\n",
       "   price_per_sqft  \n",
       "0     3699.810606  \n",
       "1     4615.384615  \n",
       "2     4305.555556  \n",
       "3     6245.890861  \n",
       "4     4250.000000  \n",
       "5     3247.863248  \n",
       "6     7467.057101  \n",
       "7    18181.818182  \n",
       "8     4828.244275  \n",
       "9    36274.509804  "
      ]
     },
     "execution_count": 34,
     "metadata": {},
     "output_type": "execute_result"
    }
   ],
   "source": [
    "df5.head(10)"
   ]
  },
  {
   "cell_type": "code",
   "execution_count": 35,
   "metadata": {
    "execution": {
     "iopub.execute_input": "2020-08-27T17:29:51.375129Z",
     "iopub.status.busy": "2020-08-27T17:29:51.374395Z",
     "iopub.status.idle": "2020-08-27T17:29:51.389517Z",
     "shell.execute_reply": "2020-08-27T17:29:51.390025Z"
    },
    "executionInfo": {
     "elapsed": 6773,
     "status": "ok",
     "timestamp": 1587378787625,
     "user": {
      "displayName": "Aniket Yadav",
      "photoUrl": "https://lh3.googleusercontent.com/a-/AOh14GhCGjdGVIvP9Y3sjNgXbHXgTZCE7GEameN2e4vBbQ=s64",
      "userId": "04539006983376047031"
     },
     "user_tz": -330
    },
    "id": "Z_9rv9BxVdqj",
    "outputId": "07600f80-d89e-46b3-8172-0d47acc88659",
    "papermill": {
     "duration": 0.070175,
     "end_time": "2020-08-27T17:29:51.390199",
     "exception": false,
     "start_time": "2020-08-27T17:29:51.320024",
     "status": "completed"
    },
    "tags": []
   },
   "outputs": [
    {
     "data": {
      "text/html": [
       "<div>\n",
       "<style scoped>\n",
       "    .dataframe tbody tr th:only-of-type {\n",
       "        vertical-align: middle;\n",
       "    }\n",
       "\n",
       "    .dataframe tbody tr th {\n",
       "        vertical-align: top;\n",
       "    }\n",
       "\n",
       "    .dataframe thead th {\n",
       "        text-align: right;\n",
       "    }\n",
       "</style>\n",
       "<table border=\"1\" class=\"dataframe\">\n",
       "  <thead>\n",
       "    <tr style=\"text-align: right;\">\n",
       "      <th></th>\n",
       "      <th>location</th>\n",
       "      <th>size</th>\n",
       "      <th>total_sqft</th>\n",
       "      <th>bath</th>\n",
       "      <th>price</th>\n",
       "      <th>bhk</th>\n",
       "      <th>price_per_sqft</th>\n",
       "    </tr>\n",
       "  </thead>\n",
       "  <tbody>\n",
       "    <tr>\n",
       "      <th>9</th>\n",
       "      <td>other</td>\n",
       "      <td>6 Bedroom</td>\n",
       "      <td>1020.0</td>\n",
       "      <td>6.0</td>\n",
       "      <td>370.0</td>\n",
       "      <td>6</td>\n",
       "      <td>36274.509804</td>\n",
       "    </tr>\n",
       "    <tr>\n",
       "      <th>45</th>\n",
       "      <td>HSR Layout</td>\n",
       "      <td>8 Bedroom</td>\n",
       "      <td>600.0</td>\n",
       "      <td>9.0</td>\n",
       "      <td>200.0</td>\n",
       "      <td>8</td>\n",
       "      <td>33333.333333</td>\n",
       "    </tr>\n",
       "    <tr>\n",
       "      <th>58</th>\n",
       "      <td>Murugeshpalya</td>\n",
       "      <td>6 Bedroom</td>\n",
       "      <td>1407.0</td>\n",
       "      <td>4.0</td>\n",
       "      <td>150.0</td>\n",
       "      <td>6</td>\n",
       "      <td>10660.980810</td>\n",
       "    </tr>\n",
       "    <tr>\n",
       "      <th>68</th>\n",
       "      <td>Devarachikkanahalli</td>\n",
       "      <td>8 Bedroom</td>\n",
       "      <td>1350.0</td>\n",
       "      <td>7.0</td>\n",
       "      <td>85.0</td>\n",
       "      <td>8</td>\n",
       "      <td>6296.296296</td>\n",
       "    </tr>\n",
       "    <tr>\n",
       "      <th>70</th>\n",
       "      <td>other</td>\n",
       "      <td>3 Bedroom</td>\n",
       "      <td>500.0</td>\n",
       "      <td>3.0</td>\n",
       "      <td>100.0</td>\n",
       "      <td>3</td>\n",
       "      <td>20000.000000</td>\n",
       "    </tr>\n",
       "  </tbody>\n",
       "</table>\n",
       "</div>"
      ],
      "text/plain": [
       "               location       size  total_sqft  bath  price  bhk  \\\n",
       "9                 other  6 Bedroom      1020.0   6.0  370.0    6   \n",
       "45           HSR Layout  8 Bedroom       600.0   9.0  200.0    8   \n",
       "58        Murugeshpalya  6 Bedroom      1407.0   4.0  150.0    6   \n",
       "68  Devarachikkanahalli  8 Bedroom      1350.0   7.0   85.0    8   \n",
       "70                other  3 Bedroom       500.0   3.0  100.0    3   \n",
       "\n",
       "    price_per_sqft  \n",
       "9     36274.509804  \n",
       "45    33333.333333  \n",
       "58    10660.980810  \n",
       "68     6296.296296  \n",
       "70    20000.000000  "
      ]
     },
     "execution_count": 35,
     "metadata": {},
     "output_type": "execute_result"
    }
   ],
   "source": [
    "df5[df5.total_sqft/df5.bhk<300].head()\n"
   ]
  },
  {
   "cell_type": "code",
   "execution_count": 36,
   "metadata": {
    "execution": {
     "iopub.execute_input": "2020-08-27T17:29:51.489517Z",
     "iopub.status.busy": "2020-08-27T17:29:51.488784Z",
     "iopub.status.idle": "2020-08-27T17:29:51.493278Z",
     "shell.execute_reply": "2020-08-27T17:29:51.492668Z"
    },
    "executionInfo": {
     "elapsed": 6742,
     "status": "ok",
     "timestamp": 1587378787626,
     "user": {
      "displayName": "Aniket Yadav",
      "photoUrl": "https://lh3.googleusercontent.com/a-/AOh14GhCGjdGVIvP9Y3sjNgXbHXgTZCE7GEameN2e4vBbQ=s64",
      "userId": "04539006983376047031"
     },
     "user_tz": -330
    },
    "id": "QPCCdEK_WNJn",
    "outputId": "d87b2ad4-ae2e-4b5c-f05c-6dadc0e2e242",
    "papermill": {
     "duration": 0.055948,
     "end_time": "2020-08-27T17:29:51.493390",
     "exception": false,
     "start_time": "2020-08-27T17:29:51.437442",
     "status": "completed"
    },
    "tags": []
   },
   "outputs": [
    {
     "data": {
      "text/plain": [
       "(13200, 7)"
      ]
     },
     "execution_count": 36,
     "metadata": {},
     "output_type": "execute_result"
    }
   ],
   "source": [
    "df5.shape\n"
   ]
  },
  {
   "cell_type": "code",
   "execution_count": 37,
   "metadata": {
    "execution": {
     "iopub.execute_input": "2020-08-27T17:29:51.595964Z",
     "iopub.status.busy": "2020-08-27T17:29:51.595257Z",
     "iopub.status.idle": "2020-08-27T17:29:51.603415Z",
     "shell.execute_reply": "2020-08-27T17:29:51.602757Z"
    },
    "executionInfo": {
     "elapsed": 6719,
     "status": "ok",
     "timestamp": 1587378787628,
     "user": {
      "displayName": "Aniket Yadav",
      "photoUrl": "https://lh3.googleusercontent.com/a-/AOh14GhCGjdGVIvP9Y3sjNgXbHXgTZCE7GEameN2e4vBbQ=s64",
      "userId": "04539006983376047031"
     },
     "user_tz": -330
    },
    "id": "jb2iHXJEWQ2T",
    "outputId": "0900b8f4-5ae0-4ab3-b0f5-c70df29f21ea",
    "papermill": {
     "duration": 0.06227,
     "end_time": "2020-08-27T17:29:51.603554",
     "exception": false,
     "start_time": "2020-08-27T17:29:51.541284",
     "status": "completed"
    },
    "tags": []
   },
   "outputs": [
    {
     "data": {
      "text/plain": [
       "(12456, 7)"
      ]
     },
     "execution_count": 37,
     "metadata": {},
     "output_type": "execute_result"
    }
   ],
   "source": [
    "\n",
    "df6 = df5[~(df5.total_sqft/df5.bhk<300)]\n",
    "df6.shape"
   ]
  },
  {
   "cell_type": "code",
   "execution_count": 38,
   "metadata": {
    "execution": {
     "iopub.execute_input": "2020-08-27T17:29:51.706378Z",
     "iopub.status.busy": "2020-08-27T17:29:51.705361Z",
     "iopub.status.idle": "2020-08-27T17:29:51.713706Z",
     "shell.execute_reply": "2020-08-27T17:29:51.713040Z"
    },
    "executionInfo": {
     "elapsed": 6575,
     "status": "ok",
     "timestamp": 1587378787628,
     "user": {
      "displayName": "Aniket Yadav",
      "photoUrl": "https://lh3.googleusercontent.com/a-/AOh14GhCGjdGVIvP9Y3sjNgXbHXgTZCE7GEameN2e4vBbQ=s64",
      "userId": "04539006983376047031"
     },
     "user_tz": -330
    },
    "id": "DsX3IFSSWTOL",
    "outputId": "d1da3b46-68bf-432a-a640-058f1d3d427d",
    "papermill": {
     "duration": 0.061962,
     "end_time": "2020-08-27T17:29:51.713825",
     "exception": false,
     "start_time": "2020-08-27T17:29:51.651863",
     "status": "completed"
    },
    "tags": []
   },
   "outputs": [
    {
     "data": {
      "text/plain": [
       "count     12456.000000\n",
       "mean       6308.502826\n",
       "std        4168.127339\n",
       "min         267.829813\n",
       "25%        4210.526316\n",
       "50%        5294.117647\n",
       "75%        6916.666667\n",
       "max      176470.588235\n",
       "Name: price_per_sqft, dtype: float64"
      ]
     },
     "execution_count": 38,
     "metadata": {},
     "output_type": "execute_result"
    }
   ],
   "source": [
    "df6.price_per_sqft.describe()"
   ]
  },
  {
   "cell_type": "code",
   "execution_count": 39,
   "metadata": {
    "execution": {
     "iopub.execute_input": "2020-08-27T17:29:51.818066Z",
     "iopub.status.busy": "2020-08-27T17:29:51.817244Z",
     "iopub.status.idle": "2020-08-27T17:29:51.821474Z",
     "shell.execute_reply": "2020-08-27T17:29:51.820856Z"
    },
    "executionInfo": {
     "elapsed": 6552,
     "status": "ok",
     "timestamp": 1587378787629,
     "user": {
      "displayName": "Aniket Yadav",
      "photoUrl": "https://lh3.googleusercontent.com/a-/AOh14GhCGjdGVIvP9Y3sjNgXbHXgTZCE7GEameN2e4vBbQ=s64",
      "userId": "04539006983376047031"
     },
     "user_tz": -330
    },
    "id": "d2x6lK4t_vEt",
    "outputId": "933c00ff-3d50-4b27-d87c-b7636376eb50",
    "papermill": {
     "duration": 0.058134,
     "end_time": "2020-08-27T17:29:51.821610",
     "exception": false,
     "start_time": "2020-08-27T17:29:51.763476",
     "status": "completed"
    },
    "tags": []
   },
   "outputs": [
    {
     "data": {
      "text/plain": [
       "<pandas.core.groupby.generic.DataFrameGroupBy object at 0x7f663c572910>"
      ]
     },
     "execution_count": 39,
     "metadata": {},
     "output_type": "execute_result"
    }
   ],
   "source": [
    "df6.groupby('location')"
   ]
  },
  {
   "cell_type": "code",
   "execution_count": 40,
   "metadata": {
    "execution": {
     "iopub.execute_input": "2020-08-27T17:29:51.929880Z",
     "iopub.status.busy": "2020-08-27T17:29:51.929128Z",
     "iopub.status.idle": "2020-08-27T17:29:52.684333Z",
     "shell.execute_reply": "2020-08-27T17:29:52.683658Z"
    },
    "executionInfo": {
     "elapsed": 6527,
     "status": "ok",
     "timestamp": 1587378787630,
     "user": {
      "displayName": "Aniket Yadav",
      "photoUrl": "https://lh3.googleusercontent.com/a-/AOh14GhCGjdGVIvP9Y3sjNgXbHXgTZCE7GEameN2e4vBbQ=s64",
      "userId": "04539006983376047031"
     },
     "user_tz": -330
    },
    "id": "ACfTc6sjWWOx",
    "outputId": "bf4d425b-fb09-411e-d48b-f6866d897e10",
    "papermill": {
     "duration": 0.813625,
     "end_time": "2020-08-27T17:29:52.684460",
     "exception": false,
     "start_time": "2020-08-27T17:29:51.870835",
     "status": "completed"
    },
    "tags": []
   },
   "outputs": [
    {
     "name": "stdout",
     "output_type": "stream",
     "text": [
      "      location       size  total_sqft  bath   price  bhk  price_per_sqft\n",
      "18       other      3 BHK      2770.0   4.0  290.00    3    10469.314079\n",
      "19       other      2 BHK      1100.0   2.0   48.00    2     4363.636364\n",
      "25       other      3 BHK      1250.0   3.0   56.00    3     4480.000000\n",
      "42       other      1 BHK       600.0   1.0   38.00    1     6333.333333\n",
      "49       other      2 BHK       869.0   2.0   36.00    2     4142.692750\n",
      "...        ...        ...         ...   ...     ...  ...             ...\n",
      "13291    other  1 Bedroom       812.0   1.0   26.00    1     3201.970443\n",
      "13292    other      3 BHK      1440.0   2.0   63.93    3     4439.583333\n",
      "13302    other      2 BHK      1075.0   2.0   48.00    2     4465.116279\n",
      "13306    other  4 Bedroom      1200.0   5.0  325.00    4    27083.333333\n",
      "13316    other      4 BHK      3600.0   5.0  400.00    4    11111.111111\n",
      "\n",
      "[2557 rows x 7 columns]\n",
      "                  location       size  total_sqft  bath   price  bhk  \\\n",
      "0      1st Block Jayanagar      4 BHK      2850.0   4.0  428.00    4   \n",
      "1      1st Block Jayanagar      3 BHK      1630.0   3.0  194.00    3   \n",
      "2      1st Block Jayanagar      3 BHK      1875.0   2.0  235.00    3   \n",
      "3      1st Block Jayanagar      3 BHK      1200.0   2.0  130.00    3   \n",
      "4      1st Block Jayanagar      2 BHK      1235.0   2.0  148.00    2   \n",
      "...                    ...        ...         ...   ...     ...  ...   \n",
      "10237                other      2 BHK      1353.0   2.0  110.00    2   \n",
      "10238                other  1 Bedroom       812.0   1.0   26.00    1   \n",
      "10239                other      3 BHK      1440.0   2.0   63.93    3   \n",
      "10240                other      2 BHK      1075.0   2.0   48.00    2   \n",
      "10241                other      4 BHK      3600.0   5.0  400.00    4   \n",
      "\n",
      "       price_per_sqft  \n",
      "0        15017.543860  \n",
      "1        11901.840491  \n",
      "2        12533.333333  \n",
      "3        10833.333333  \n",
      "4        11983.805668  \n",
      "...               ...  \n",
      "10237     8130.081301  \n",
      "10238     3201.970443  \n",
      "10239     4439.583333  \n",
      "10240     4465.116279  \n",
      "10241    11111.111111  \n",
      "\n",
      "[10242 rows x 7 columns]\n"
     ]
    },
    {
     "data": {
      "text/plain": [
       "(10242, 7)"
      ]
     },
     "execution_count": 40,
     "metadata": {},
     "output_type": "execute_result"
    }
   ],
   "source": [
    "def remove_pps_outliers(df):\n",
    "    df_out = pd.DataFrame()\n",
    "    for key, subdf in df.groupby('location'):\n",
    "        m = np.mean(subdf.price_per_sqft)\n",
    "        st = np.std(subdf.price_per_sqft)\n",
    "        reduced_df = subdf[(subdf.price_per_sqft>(m-st)) & (subdf.price_per_sqft<=(m+st))]\n",
    "        df_out = pd.concat([df_out,reduced_df],ignore_index=True)\n",
    "        #print(key)\n",
    "    print(subdf)\n",
    "    print(df_out)\n",
    "    return df_out\n",
    "    \n",
    "df7 = remove_pps_outliers(df6)\n",
    "df7.shape"
   ]
  },
  {
   "cell_type": "code",
   "execution_count": 41,
   "metadata": {
    "execution": {
     "iopub.execute_input": "2020-08-27T17:29:52.796900Z",
     "iopub.status.busy": "2020-08-27T17:29:52.796198Z",
     "iopub.status.idle": "2020-08-27T17:29:53.152009Z",
     "shell.execute_reply": "2020-08-27T17:29:53.151244Z"
    },
    "executionInfo": {
     "elapsed": 1264,
     "status": "ok",
     "timestamp": 1587378871729,
     "user": {
      "displayName": "Aniket Yadav",
      "photoUrl": "https://lh3.googleusercontent.com/a-/AOh14GhCGjdGVIvP9Y3sjNgXbHXgTZCE7GEameN2e4vBbQ=s64",
      "userId": "04539006983376047031"
     },
     "user_tz": -330
    },
    "id": "4KzYrEEmWa9K",
    "outputId": "b1acccbc-8c05-4f59-b0db-837e7c0edff8",
    "papermill": {
     "duration": 0.417247,
     "end_time": "2020-08-27T17:29:53.152141",
     "exception": false,
     "start_time": "2020-08-27T17:29:52.734894",
     "status": "completed"
    },
    "tags": []
   },
   "outputs": [
    {
     "data": {
      "image/png": "[encoded data removed]",
      "text/plain": [
       "<Figure size 1080x720 with 1 Axes>"
      ]
     },
     "metadata": {
      "needs_background": "light"
     },
     "output_type": "display_data"
    }
   ],
   "source": [
    "def plot_scatter_chart(df,location):\n",
    "    bhk2 = df[(df.location==location) & (df.bhk==2)]\n",
    "    bhk3 = df[(df.location==location) & (df.bhk==3)]\n",
    "    matplotlib.rcParams['figure.figsize'] = (15,10)\n",
    "    plt.scatter(bhk2.total_sqft,bhk2.price,color='blue',label='2 BHK', s=50)\n",
    "    plt.scatter(bhk3.total_sqft,bhk3.price,marker='+', color='green',label='3 BHK', s=50)\n",
    "    plt.xlabel(\"Total Square Feet Area\")\n",
    "    plt.ylabel(\"Price (Lakh Indian Rupees)\")\n",
    "    plt.title(location)\n",
    "    plt.legend()\n",
    "    \n",
    "plot_scatter_chart(df7,\"Rajaji Nagar\")"
   ]
  },
  {
   "cell_type": "code",
   "execution_count": 42,
   "metadata": {
    "execution": {
     "iopub.execute_input": "2020-08-27T17:29:53.268998Z",
     "iopub.status.busy": "2020-08-27T17:29:53.268221Z",
     "iopub.status.idle": "2020-08-27T17:29:53.481218Z",
     "shell.execute_reply": "2020-08-27T17:29:53.480515Z"
    },
    "executionInfo": {
     "elapsed": 1264,
     "status": "ok",
     "timestamp": 1587378873776,
     "user": {
      "displayName": "Aniket Yadav",
      "photoUrl": "https://lh3.googleusercontent.com/a-/AOh14GhCGjdGVIvP9Y3sjNgXbHXgTZCE7GEameN2e4vBbQ=s64",
      "userId": "04539006983376047031"
     },
     "user_tz": -330
    },
    "id": "9FDXzB5UDYNg",
    "outputId": "19f3b369-0ce9-4a17-a15f-727d9faf4de3",
    "papermill": {
     "duration": 0.274495,
     "end_time": "2020-08-27T17:29:53.481342",
     "exception": false,
     "start_time": "2020-08-27T17:29:53.206847",
     "status": "completed"
    },
    "tags": []
   },
   "outputs": [
    {
     "data": {
      "image/png": "[encoded data removed]",
      "text/plain": [
       "<Figure size 1080x720 with 1 Axes>"
      ]
     },
     "metadata": {
      "needs_background": "light"
     },
     "output_type": "display_data"
    }
   ],
   "source": [
    "plot_scatter_chart(df7,\"Hebbal\")\n"
   ]
  },
  {
   "cell_type": "markdown",
   "execution_count": null,
   "metadata": {
    "id": "6CTMnNGrNlaa",
    "papermill": {
     "duration": 0.054513,
     "end_time": "2020-08-27T17:29:53.589754",
     "exception": false,
     "start_time": "2020-08-27T17:29:53.535241",
     "status": "completed"
    },
    "tags": []
   },
   "source": [
    "## ***remove outliers***"
   ]
  },
  {
   "cell_type": "code",
   "execution_count": 43,
   "metadata": {
    "execution": {
     "iopub.execute_input": "2020-08-27T17:29:53.710281Z",
     "iopub.status.busy": "2020-08-27T17:29:53.709404Z",
     "iopub.status.idle": "2020-08-27T17:29:54.709676Z",
     "shell.execute_reply": "2020-08-27T17:29:54.708597Z"
    },
    "executionInfo": {
     "elapsed": 2283,
     "status": "ok",
     "timestamp": 1587378875588,
     "user": {
      "displayName": "Aniket Yadav",
      "photoUrl": "https://lh3.googleusercontent.com/a-/AOh14GhCGjdGVIvP9Y3sjNgXbHXgTZCE7GEameN2e4vBbQ=s64",
      "userId": "04539006983376047031"
     },
     "user_tz": -330
    },
    "id": "zFy4jvKgEjns",
    "outputId": "3ea972be-8712-4a2a-f606-4b5263ce667f",
    "papermill": {
     "duration": 1.064887,
     "end_time": "2020-08-27T17:29:54.709824",
     "exception": false,
     "start_time": "2020-08-27T17:29:53.644937",
     "status": "completed"
    },
    "tags": []
   },
   "outputs": [
    {
     "data": {
      "text/plain": [
       "(7317, 7)"
      ]
     },
     "execution_count": 43,
     "metadata": {},
     "output_type": "execute_result"
    }
   ],
   "source": [
    "\n",
    "def remove_bhk_outliers(df):\n",
    "    exclude_indices = np.array([])\n",
    "    for location, location_df in df.groupby('location'):\n",
    "        bhk_stats = {}\n",
    "        for bhk, bhk_df in location_df.groupby('bhk'):\n",
    "            bhk_stats[bhk] = {\n",
    "                'mean': np.mean(bhk_df.price_per_sqft),\n",
    "                'std': np.std(bhk_df.price_per_sqft),\n",
    "                'count': bhk_df.shape[0]\n",
    "            }\n",
    "        for bhk, bhk_df in location_df.groupby('bhk'):\n",
    "            stats = bhk_stats.get(bhk-1)\n",
    "            if stats and stats['count']>5:\n",
    "                exclude_indices = np.append(exclude_indices, bhk_df[bhk_df.price_per_sqft<(stats['mean'])].index.values)\n",
    "    return df.drop(exclude_indices,axis='index')\n",
    "df8 = remove_bhk_outliers(df7)\n",
    "# df8 = df7.copy()\n",
    "df8.shape"
   ]
  },
  {
   "cell_type": "code",
   "execution_count": 44,
   "metadata": {
    "execution": {
     "iopub.execute_input": "2020-08-27T17:29:54.835090Z",
     "iopub.status.busy": "2020-08-27T17:29:54.830898Z",
     "iopub.status.idle": "2020-08-27T17:29:55.047469Z",
     "shell.execute_reply": "2020-08-27T17:29:55.046810Z"
    },
    "executionInfo": {
     "elapsed": 2713,
     "status": "ok",
     "timestamp": 1587378876329,
     "user": {
      "displayName": "Aniket Yadav",
      "photoUrl": "https://lh3.googleusercontent.com/a-/AOh14GhCGjdGVIvP9Y3sjNgXbHXgTZCE7GEameN2e4vBbQ=s64",
      "userId": "04539006983376047031"
     },
     "user_tz": -330
    },
    "id": "R47SCy_ENh9t",
    "outputId": "66e8f43e-3469-4a9b-def7-0cbcfb79aa67",
    "papermill": {
     "duration": 0.280817,
     "end_time": "2020-08-27T17:29:55.047617",
     "exception": false,
     "start_time": "2020-08-27T17:29:54.766800",
     "status": "completed"
    },
    "tags": []
   },
   "outputs": [
    {
     "data": {
      "image/png": "[encoded data removed]",
      "text/plain": [
       "<Figure size 1080x720 with 1 Axes>"
      ]
     },
     "metadata": {
      "needs_background": "light"
     },
     "output_type": "display_data"
    }
   ],
   "source": [
    "plot_scatter_chart(df8,\"Rajaji Nagar\")\n"
   ]
  },
  {
   "cell_type": "code",
   "execution_count": 45,
   "metadata": {
    "execution": {
     "iopub.execute_input": "2020-08-27T17:29:55.174118Z",
     "iopub.status.busy": "2020-08-27T17:29:55.170811Z",
     "iopub.status.idle": "2020-08-27T17:29:55.384938Z",
     "shell.execute_reply": "2020-08-27T17:29:55.384236Z"
    },
    "executionInfo": {
     "elapsed": 2965,
     "status": "ok",
     "timestamp": 1587378881822,
     "user": {
      "displayName": "Aniket Yadav",
      "photoUrl": "https://lh3.googleusercontent.com/a-/AOh14GhCGjdGVIvP9Y3sjNgXbHXgTZCE7GEameN2e4vBbQ=s64",
      "userId": "04539006983376047031"
     },
     "user_tz": -330
    },
    "id": "iRZlWdU7N2D3",
    "outputId": "f12da9e6-1d83-4589-8148-3d90fcb91dd1",
    "papermill": {
     "duration": 0.278143,
     "end_time": "2020-08-27T17:29:55.385074",
     "exception": false,
     "start_time": "2020-08-27T17:29:55.106931",
     "status": "completed"
    },
    "tags": []
   },
   "outputs": [
    {
     "data": {
      "image/png": "[encoded data removed]",
      "text/plain": [
       "<Figure size 1080x720 with 1 Axes>"
      ]
     },
     "metadata": {
      "needs_background": "light"
     },
     "output_type": "display_data"
    }
   ],
   "source": [
    "plot_scatter_chart(df8,\"Hebbal\")\n"
   ]
  },
  {
   "cell_type": "code",
   "execution_count": 46,
   "metadata": {
    "execution": {
     "iopub.execute_input": "2020-08-27T17:29:55.513796Z",
     "iopub.status.busy": "2020-08-27T17:29:55.512748Z",
     "iopub.status.idle": "2020-08-27T17:29:55.724836Z",
     "shell.execute_reply": "2020-08-27T17:29:55.723963Z"
    },
    "executionInfo": {
     "elapsed": 8320,
     "status": "ok",
     "timestamp": 1587378789614,
     "user": {
      "displayName": "Aniket Yadav",
      "photoUrl": "https://lh3.googleusercontent.com/a-/AOh14GhCGjdGVIvP9Y3sjNgXbHXgTZCE7GEameN2e4vBbQ=s64",
      "userId": "04539006983376047031"
     },
     "user_tz": -330
    },
    "id": "Gy2OJYraN7p9",
    "outputId": "7fbc403e-2cbd-46f0-bbb0-4f8429b4360a",
    "papermill": {
     "duration": 0.283131,
     "end_time": "2020-08-27T17:29:55.724989",
     "exception": false,
     "start_time": "2020-08-27T17:29:55.441858",
     "status": "completed"
    },
    "tags": []
   },
   "outputs": [
    {
     "data": {
      "text/plain": [
       "Text(0, 0.5, 'Count')"
      ]
     },
     "execution_count": 46,
     "metadata": {},
     "output_type": "execute_result"
    },
    {
     "data": {
      "image/png": "[encoded data removed]",
      "text/plain": [
       "<Figure size 1440x720 with 1 Axes>"
      ]
     },
     "metadata": {
      "needs_background": "light"
     },
     "output_type": "display_data"
    }
   ],
   "source": [
    "import matplotlib\n",
    "matplotlib.rcParams[\"figure.figsize\"] = (20,10)\n",
    "plt.hist(df8.price_per_sqft,rwidth=0.8)\n",
    "plt.xlabel(\"Price Per Square Feet\")\n",
    "plt.ylabel(\"Count\")"
   ]
  },
  {
   "cell_type": "markdown",
   "execution_count": null,
   "metadata": {
    "id": "EQz-5JUgOHwb",
    "papermill": {
     "duration": 0.054047,
     "end_time": "2020-08-27T17:29:55.835272",
     "exception": false,
     "start_time": "2020-08-27T17:29:55.781225",
     "status": "completed"
    },
    "tags": []
   },
   "source": [
    "\n",
    "Outlier Removal Using Bathrooms Feature"
   ]
  },
  {
   "cell_type": "code",
   "execution_count": 47,
   "metadata": {
    "execution": {
     "iopub.execute_input": "2020-08-27T17:29:55.949836Z",
     "iopub.status.busy": "2020-08-27T17:29:55.948983Z",
     "iopub.status.idle": "2020-08-27T17:29:55.953484Z",
     "shell.execute_reply": "2020-08-27T17:29:55.952844Z"
    },
    "executionInfo": {
     "elapsed": 8280,
     "status": "ok",
     "timestamp": 1587378789615,
     "user": {
      "displayName": "Aniket Yadav",
      "photoUrl": "https://lh3.googleusercontent.com/a-/AOh14GhCGjdGVIvP9Y3sjNgXbHXgTZCE7GEameN2e4vBbQ=s64",
      "userId": "04539006983376047031"
     },
     "user_tz": -330
    },
    "id": "mISUxqdFN_g6",
    "outputId": "993860bf-47d8-45e4-8a56-d20e52c54056",
    "papermill": {
     "duration": 0.063235,
     "end_time": "2020-08-27T17:29:55.953638",
     "exception": false,
     "start_time": "2020-08-27T17:29:55.890403",
     "status": "completed"
    },
    "tags": []
   },
   "outputs": [
    {
     "data": {
      "text/plain": [
       "array([ 4.,  3.,  2.,  5.,  8.,  1.,  6.,  7.,  9., 12., 16., 13.])"
      ]
     },
     "execution_count": 47,
     "metadata": {},
     "output_type": "execute_result"
    }
   ],
   "source": [
    "df8.bath.unique()\n"
   ]
  },
  {
   "cell_type": "code",
   "execution_count": 48,
   "metadata": {
    "execution": {
     "iopub.execute_input": "2020-08-27T17:29:56.072716Z",
     "iopub.status.busy": "2020-08-27T17:29:56.071917Z",
     "iopub.status.idle": "2020-08-27T17:29:56.298092Z",
     "shell.execute_reply": "2020-08-27T17:29:56.297395Z"
    },
    "executionInfo": {
     "elapsed": 8985,
     "status": "ok",
     "timestamp": 1587378790359,
     "user": {
      "displayName": "Aniket Yadav",
      "photoUrl": "https://lh3.googleusercontent.com/a-/AOh14GhCGjdGVIvP9Y3sjNgXbHXgTZCE7GEameN2e4vBbQ=s64",
      "userId": "04539006983376047031"
     },
     "user_tz": -330
    },
    "id": "29Nk1JPvOL9u",
    "outputId": "a762b6f1-ac29-4dc5-c985-08cd1de3975f",
    "papermill": {
     "duration": 0.288392,
     "end_time": "2020-08-27T17:29:56.298221",
     "exception": false,
     "start_time": "2020-08-27T17:29:56.009829",
     "status": "completed"
    },
    "tags": []
   },
   "outputs": [
    {
     "data": {
      "text/plain": [
       "Text(0, 0.5, 'Count')"
      ]
     },
     "execution_count": 48,
     "metadata": {},
     "output_type": "execute_result"
    },
    {
     "data": {
      "image/png": "[encoded data removed]",
      "text/plain": [
       "<Figure size 1440x720 with 1 Axes>"
      ]
     },
     "metadata": {
      "needs_background": "light"
     },
     "output_type": "display_data"
    }
   ],
   "source": [
    "plt.hist(df8.bath,rwidth=0.8)\n",
    "plt.xlabel(\"Number of bathrooms\")\n",
    "plt.ylabel(\"Count\")"
   ]
  },
  {
   "cell_type": "code",
   "execution_count": 49,
   "metadata": {
    "execution": {
     "iopub.execute_input": "2020-08-27T17:29:56.427308Z",
     "iopub.status.busy": "2020-08-27T17:29:56.426328Z",
     "iopub.status.idle": "2020-08-27T17:29:56.431152Z",
     "shell.execute_reply": "2020-08-27T17:29:56.430414Z"
    },
    "executionInfo": {
     "elapsed": 8957,
     "status": "ok",
     "timestamp": 1587378790361,
     "user": {
      "displayName": "Aniket Yadav",
      "photoUrl": "https://lh3.googleusercontent.com/a-/AOh14GhCGjdGVIvP9Y3sjNgXbHXgTZCE7GEameN2e4vBbQ=s64",
      "userId": "04539006983376047031"
     },
     "user_tz": -330
    },
    "id": "y0s-DNLqOOSH",
    "outputId": "ec578eb4-bc52-48f9-efad-9b03f73ad898",
    "papermill": {
     "duration": 0.075949,
     "end_time": "2020-08-27T17:29:56.431291",
     "exception": false,
     "start_time": "2020-08-27T17:29:56.355342",
     "status": "completed"
    },
    "tags": []
   },
   "outputs": [
    {
     "data": {
      "text/html": [
       "<div>\n",
       "<style scoped>\n",
       "    .dataframe tbody tr th:only-of-type {\n",
       "        vertical-align: middle;\n",
       "    }\n",
       "\n",
       "    .dataframe tbody tr th {\n",
       "        vertical-align: top;\n",
       "    }\n",
       "\n",
       "    .dataframe thead th {\n",
       "        text-align: right;\n",
       "    }\n",
       "</style>\n",
       "<table border=\"1\" class=\"dataframe\">\n",
       "  <thead>\n",
       "    <tr style=\"text-align: right;\">\n",
       "      <th></th>\n",
       "      <th>location</th>\n",
       "      <th>size</th>\n",
       "      <th>total_sqft</th>\n",
       "      <th>bath</th>\n",
       "      <th>price</th>\n",
       "      <th>bhk</th>\n",
       "      <th>price_per_sqft</th>\n",
       "    </tr>\n",
       "  </thead>\n",
       "  <tbody>\n",
       "    <tr>\n",
       "      <th>5277</th>\n",
       "      <td>Neeladri Nagar</td>\n",
       "      <td>10 BHK</td>\n",
       "      <td>4000.0</td>\n",
       "      <td>12.0</td>\n",
       "      <td>160.0</td>\n",
       "      <td>10</td>\n",
       "      <td>4000.000000</td>\n",
       "    </tr>\n",
       "    <tr>\n",
       "      <th>8483</th>\n",
       "      <td>other</td>\n",
       "      <td>10 BHK</td>\n",
       "      <td>12000.0</td>\n",
       "      <td>12.0</td>\n",
       "      <td>525.0</td>\n",
       "      <td>10</td>\n",
       "      <td>4375.000000</td>\n",
       "    </tr>\n",
       "    <tr>\n",
       "      <th>8572</th>\n",
       "      <td>other</td>\n",
       "      <td>16 BHK</td>\n",
       "      <td>10000.0</td>\n",
       "      <td>16.0</td>\n",
       "      <td>550.0</td>\n",
       "      <td>16</td>\n",
       "      <td>5500.000000</td>\n",
       "    </tr>\n",
       "    <tr>\n",
       "      <th>9306</th>\n",
       "      <td>other</td>\n",
       "      <td>11 BHK</td>\n",
       "      <td>6000.0</td>\n",
       "      <td>12.0</td>\n",
       "      <td>150.0</td>\n",
       "      <td>11</td>\n",
       "      <td>2500.000000</td>\n",
       "    </tr>\n",
       "    <tr>\n",
       "      <th>9637</th>\n",
       "      <td>other</td>\n",
       "      <td>13 BHK</td>\n",
       "      <td>5425.0</td>\n",
       "      <td>13.0</td>\n",
       "      <td>275.0</td>\n",
       "      <td>13</td>\n",
       "      <td>5069.124424</td>\n",
       "    </tr>\n",
       "  </tbody>\n",
       "</table>\n",
       "</div>"
      ],
      "text/plain": [
       "            location    size  total_sqft  bath  price  bhk  price_per_sqft\n",
       "5277  Neeladri Nagar  10 BHK      4000.0  12.0  160.0   10     4000.000000\n",
       "8483           other  10 BHK     12000.0  12.0  525.0   10     4375.000000\n",
       "8572           other  16 BHK     10000.0  16.0  550.0   16     5500.000000\n",
       "9306           other  11 BHK      6000.0  12.0  150.0   11     2500.000000\n",
       "9637           other  13 BHK      5425.0  13.0  275.0   13     5069.124424"
      ]
     },
     "execution_count": 49,
     "metadata": {},
     "output_type": "execute_result"
    }
   ],
   "source": [
    "df8[df8.bath>10]\n"
   ]
  },
  {
   "cell_type": "code",
   "execution_count": 50,
   "metadata": {
    "execution": {
     "iopub.execute_input": "2020-08-27T17:29:56.561000Z",
     "iopub.status.busy": "2020-08-27T17:29:56.559777Z",
     "iopub.status.idle": "2020-08-27T17:29:56.564111Z",
     "shell.execute_reply": "2020-08-27T17:29:56.564733Z"
    },
    "executionInfo": {
     "elapsed": 8940,
     "status": "ok",
     "timestamp": 1587378790362,
     "user": {
      "displayName": "Aniket Yadav",
      "photoUrl": "https://lh3.googleusercontent.com/a-/AOh14GhCGjdGVIvP9Y3sjNgXbHXgTZCE7GEameN2e4vBbQ=s64",
      "userId": "04539006983376047031"
     },
     "user_tz": -330
    },
    "id": "ITrrJO0wORK_",
    "outputId": "c366452e-4e9b-4685-e822-b26f20046837",
    "papermill": {
     "duration": 0.077017,
     "end_time": "2020-08-27T17:29:56.564903",
     "exception": false,
     "start_time": "2020-08-27T17:29:56.487886",
     "status": "completed"
    },
    "tags": []
   },
   "outputs": [
    {
     "data": {
      "text/html": [
       "<div>\n",
       "<style scoped>\n",
       "    .dataframe tbody tr th:only-of-type {\n",
       "        vertical-align: middle;\n",
       "    }\n",
       "\n",
       "    .dataframe tbody tr th {\n",
       "        vertical-align: top;\n",
       "    }\n",
       "\n",
       "    .dataframe thead th {\n",
       "        text-align: right;\n",
       "    }\n",
       "</style>\n",
       "<table border=\"1\" class=\"dataframe\">\n",
       "  <thead>\n",
       "    <tr style=\"text-align: right;\">\n",
       "      <th></th>\n",
       "      <th>location</th>\n",
       "      <th>size</th>\n",
       "      <th>total_sqft</th>\n",
       "      <th>bath</th>\n",
       "      <th>price</th>\n",
       "      <th>bhk</th>\n",
       "      <th>price_per_sqft</th>\n",
       "    </tr>\n",
       "  </thead>\n",
       "  <tbody>\n",
       "    <tr>\n",
       "      <th>1626</th>\n",
       "      <td>Chikkabanavar</td>\n",
       "      <td>4 Bedroom</td>\n",
       "      <td>2460.0</td>\n",
       "      <td>7.0</td>\n",
       "      <td>80.0</td>\n",
       "      <td>4</td>\n",
       "      <td>3252.032520</td>\n",
       "    </tr>\n",
       "    <tr>\n",
       "      <th>5238</th>\n",
       "      <td>Nagasandra</td>\n",
       "      <td>4 Bedroom</td>\n",
       "      <td>7000.0</td>\n",
       "      <td>8.0</td>\n",
       "      <td>450.0</td>\n",
       "      <td>4</td>\n",
       "      <td>6428.571429</td>\n",
       "    </tr>\n",
       "    <tr>\n",
       "      <th>6711</th>\n",
       "      <td>Thanisandra</td>\n",
       "      <td>3 BHK</td>\n",
       "      <td>1806.0</td>\n",
       "      <td>6.0</td>\n",
       "      <td>116.0</td>\n",
       "      <td>3</td>\n",
       "      <td>6423.034330</td>\n",
       "    </tr>\n",
       "    <tr>\n",
       "      <th>8408</th>\n",
       "      <td>other</td>\n",
       "      <td>6 BHK</td>\n",
       "      <td>11338.0</td>\n",
       "      <td>9.0</td>\n",
       "      <td>1000.0</td>\n",
       "      <td>6</td>\n",
       "      <td>8819.897689</td>\n",
       "    </tr>\n",
       "  </tbody>\n",
       "</table>\n",
       "</div>"
      ],
      "text/plain": [
       "           location       size  total_sqft  bath   price  bhk  price_per_sqft\n",
       "1626  Chikkabanavar  4 Bedroom      2460.0   7.0    80.0    4     3252.032520\n",
       "5238     Nagasandra  4 Bedroom      7000.0   8.0   450.0    4     6428.571429\n",
       "6711    Thanisandra      3 BHK      1806.0   6.0   116.0    3     6423.034330\n",
       "8408          other      6 BHK     11338.0   9.0  1000.0    6     8819.897689"
      ]
     },
     "execution_count": 50,
     "metadata": {},
     "output_type": "execute_result"
    }
   ],
   "source": [
    "df8[df8.bath>df8.bhk+2]\n"
   ]
  },
  {
   "cell_type": "code",
   "execution_count": 51,
   "metadata": {
    "execution": {
     "iopub.execute_input": "2020-08-27T17:29:56.684859Z",
     "iopub.status.busy": "2020-08-27T17:29:56.683717Z",
     "iopub.status.idle": "2020-08-27T17:29:56.692021Z",
     "shell.execute_reply": "2020-08-27T17:29:56.691063Z"
    },
    "executionInfo": {
     "elapsed": 8925,
     "status": "ok",
     "timestamp": 1587378790363,
     "user": {
      "displayName": "Aniket Yadav",
      "photoUrl": "https://lh3.googleusercontent.com/a-/AOh14GhCGjdGVIvP9Y3sjNgXbHXgTZCE7GEameN2e4vBbQ=s64",
      "userId": "04539006983376047031"
     },
     "user_tz": -330
    },
    "id": "FE51dGBSOTdf",
    "outputId": "d8b37336-7824-40af-99ff-a8b4ea20739c",
    "papermill": {
     "duration": 0.071251,
     "end_time": "2020-08-27T17:29:56.692205",
     "exception": false,
     "start_time": "2020-08-27T17:29:56.620954",
     "status": "completed"
    },
    "tags": []
   },
   "outputs": [
    {
     "data": {
      "text/plain": [
       "(7239, 7)"
      ]
     },
     "execution_count": 51,
     "metadata": {},
     "output_type": "execute_result"
    }
   ],
   "source": [
    "df9 = df8[df8.bath<df8.bhk+2]\n",
    "df9.shape"
   ]
  },
  {
   "cell_type": "code",
   "execution_count": 52,
   "metadata": {
    "execution": {
     "iopub.execute_input": "2020-08-27T17:29:56.820314Z",
     "iopub.status.busy": "2020-08-27T17:29:56.819406Z",
     "iopub.status.idle": "2020-08-27T17:29:56.824871Z",
     "shell.execute_reply": "2020-08-27T17:29:56.823900Z"
    },
    "executionInfo": {
     "elapsed": 8894,
     "status": "ok",
     "timestamp": 1587378790363,
     "user": {
      "displayName": "Aniket Yadav",
      "photoUrl": "https://lh3.googleusercontent.com/a-/AOh14GhCGjdGVIvP9Y3sjNgXbHXgTZCE7GEameN2e4vBbQ=s64",
      "userId": "04539006983376047031"
     },
     "user_tz": -330
    },
    "id": "vVXM_4YbOV72",
    "outputId": "dd8db52b-fa58-4d66-a5f8-397d8b333b09",
    "papermill": {
     "duration": 0.076185,
     "end_time": "2020-08-27T17:29:56.825035",
     "exception": false,
     "start_time": "2020-08-27T17:29:56.748850",
     "status": "completed"
    },
    "tags": []
   },
   "outputs": [
    {
     "data": {
      "text/html": [
       "<div>\n",
       "<style scoped>\n",
       "    .dataframe tbody tr th:only-of-type {\n",
       "        vertical-align: middle;\n",
       "    }\n",
       "\n",
       "    .dataframe tbody tr th {\n",
       "        vertical-align: top;\n",
       "    }\n",
       "\n",
       "    .dataframe thead th {\n",
       "        text-align: right;\n",
       "    }\n",
       "</style>\n",
       "<table border=\"1\" class=\"dataframe\">\n",
       "  <thead>\n",
       "    <tr style=\"text-align: right;\">\n",
       "      <th></th>\n",
       "      <th>location</th>\n",
       "      <th>size</th>\n",
       "      <th>total_sqft</th>\n",
       "      <th>bath</th>\n",
       "      <th>price</th>\n",
       "      <th>bhk</th>\n",
       "      <th>price_per_sqft</th>\n",
       "    </tr>\n",
       "  </thead>\n",
       "  <tbody>\n",
       "    <tr>\n",
       "      <th>0</th>\n",
       "      <td>1st Block Jayanagar</td>\n",
       "      <td>4 BHK</td>\n",
       "      <td>2850.0</td>\n",
       "      <td>4.0</td>\n",
       "      <td>428.0</td>\n",
       "      <td>4</td>\n",
       "      <td>15017.543860</td>\n",
       "    </tr>\n",
       "    <tr>\n",
       "      <th>1</th>\n",
       "      <td>1st Block Jayanagar</td>\n",
       "      <td>3 BHK</td>\n",
       "      <td>1630.0</td>\n",
       "      <td>3.0</td>\n",
       "      <td>194.0</td>\n",
       "      <td>3</td>\n",
       "      <td>11901.840491</td>\n",
       "    </tr>\n",
       "  </tbody>\n",
       "</table>\n",
       "</div>"
      ],
      "text/plain": [
       "              location   size  total_sqft  bath  price  bhk  price_per_sqft\n",
       "0  1st Block Jayanagar  4 BHK      2850.0   4.0  428.0    4    15017.543860\n",
       "1  1st Block Jayanagar  3 BHK      1630.0   3.0  194.0    3    11901.840491"
      ]
     },
     "execution_count": 52,
     "metadata": {},
     "output_type": "execute_result"
    }
   ],
   "source": [
    "df9.head(2)\n"
   ]
  },
  {
   "cell_type": "code",
   "execution_count": 53,
   "metadata": {
    "execution": {
     "iopub.execute_input": "2020-08-27T17:29:56.957396Z",
     "iopub.status.busy": "2020-08-27T17:29:56.956400Z",
     "iopub.status.idle": "2020-08-27T17:29:56.962161Z",
     "shell.execute_reply": "2020-08-27T17:29:56.961607Z"
    },
    "executionInfo": {
     "elapsed": 8873,
     "status": "ok",
     "timestamp": 1587378790364,
     "user": {
      "displayName": "Aniket Yadav",
      "photoUrl": "https://lh3.googleusercontent.com/a-/AOh14GhCGjdGVIvP9Y3sjNgXbHXgTZCE7GEameN2e4vBbQ=s64",
      "userId": "04539006983376047031"
     },
     "user_tz": -330
    },
    "id": "zfg8K-1kOZ9L",
    "outputId": "26f4d660-3748-4130-eed2-267851db4b1d",
    "papermill": {
     "duration": 0.077638,
     "end_time": "2020-08-27T17:29:56.962276",
     "exception": false,
     "start_time": "2020-08-27T17:29:56.884638",
     "status": "completed"
    },
    "tags": []
   },
   "outputs": [
    {
     "data": {
      "text/html": [
       "<div>\n",
       "<style scoped>\n",
       "    .dataframe tbody tr th:only-of-type {\n",
       "        vertical-align: middle;\n",
       "    }\n",
       "\n",
       "    .dataframe tbody tr th {\n",
       "        vertical-align: top;\n",
       "    }\n",
       "\n",
       "    .dataframe thead th {\n",
       "        text-align: right;\n",
       "    }\n",
       "</style>\n",
       "<table border=\"1\" class=\"dataframe\">\n",
       "  <thead>\n",
       "    <tr style=\"text-align: right;\">\n",
       "      <th></th>\n",
       "      <th>location</th>\n",
       "      <th>total_sqft</th>\n",
       "      <th>bath</th>\n",
       "      <th>price</th>\n",
       "      <th>bhk</th>\n",
       "    </tr>\n",
       "  </thead>\n",
       "  <tbody>\n",
       "    <tr>\n",
       "      <th>0</th>\n",
       "      <td>1st Block Jayanagar</td>\n",
       "      <td>2850.0</td>\n",
       "      <td>4.0</td>\n",
       "      <td>428.0</td>\n",
       "      <td>4</td>\n",
       "    </tr>\n",
       "    <tr>\n",
       "      <th>1</th>\n",
       "      <td>1st Block Jayanagar</td>\n",
       "      <td>1630.0</td>\n",
       "      <td>3.0</td>\n",
       "      <td>194.0</td>\n",
       "      <td>3</td>\n",
       "    </tr>\n",
       "    <tr>\n",
       "      <th>2</th>\n",
       "      <td>1st Block Jayanagar</td>\n",
       "      <td>1875.0</td>\n",
       "      <td>2.0</td>\n",
       "      <td>235.0</td>\n",
       "      <td>3</td>\n",
       "    </tr>\n",
       "  </tbody>\n",
       "</table>\n",
       "</div>"
      ],
      "text/plain": [
       "              location  total_sqft  bath  price  bhk\n",
       "0  1st Block Jayanagar      2850.0   4.0  428.0    4\n",
       "1  1st Block Jayanagar      1630.0   3.0  194.0    3\n",
       "2  1st Block Jayanagar      1875.0   2.0  235.0    3"
      ]
     },
     "execution_count": 53,
     "metadata": {},
     "output_type": "execute_result"
    }
   ],
   "source": [
    "df10 = df9.drop(['size','price_per_sqft'],axis='columns')\n",
    "df10.head(3)"
   ]
  },
  {
   "cell_type": "markdown",
   "execution_count": null,
   "metadata": {
    "id": "d85uPef2Offk",
    "papermill": {
     "duration": 0.06002,
     "end_time": "2020-08-27T17:29:57.084326",
     "exception": false,
     "start_time": "2020-08-27T17:29:57.024306",
     "status": "completed"
    },
    "tags": []
   },
   "source": [
    "\n",
    "# ***Use One Hot Encoding For Location***"
   ]
  },
  {
   "cell_type": "code",
   "execution_count": 54,
   "metadata": {
    "execution": {
     "iopub.execute_input": "2020-08-27T17:29:57.220258Z",
     "iopub.status.busy": "2020-08-27T17:29:57.219533Z",
     "iopub.status.idle": "2020-08-27T17:29:57.246231Z",
     "shell.execute_reply": "2020-08-27T17:29:57.245373Z"
    },
    "executionInfo": {
     "elapsed": 8856,
     "status": "ok",
     "timestamp": 1587378790365,
     "user": {
      "displayName": "Aniket Yadav",
      "photoUrl": "https://lh3.googleusercontent.com/a-/AOh14GhCGjdGVIvP9Y3sjNgXbHXgTZCE7GEameN2e4vBbQ=s64",
      "userId": "04539006983376047031"
     },
     "user_tz": -330
    },
    "id": "Hc9G4hIEOhmX",
    "outputId": "2a0c5693-415a-4792-b7e4-00c0bfbc3bb0",
    "papermill": {
     "duration": 0.095177,
     "end_time": "2020-08-27T17:29:57.246367",
     "exception": false,
     "start_time": "2020-08-27T17:29:57.151190",
     "status": "completed"
    },
    "tags": []
   },
   "outputs": [
    {
     "data": {
      "text/html": [
       "<div>\n",
       "<style scoped>\n",
       "    .dataframe tbody tr th:only-of-type {\n",
       "        vertical-align: middle;\n",
       "    }\n",
       "\n",
       "    .dataframe tbody tr th {\n",
       "        vertical-align: top;\n",
       "    }\n",
       "\n",
       "    .dataframe thead th {\n",
       "        text-align: right;\n",
       "    }\n",
       "</style>\n",
       "<table border=\"1\" class=\"dataframe\">\n",
       "  <thead>\n",
       "    <tr style=\"text-align: right;\">\n",
       "      <th></th>\n",
       "      <th>1st Block Jayanagar</th>\n",
       "      <th>1st Phase JP Nagar</th>\n",
       "      <th>2nd Phase Judicial Layout</th>\n",
       "      <th>2nd Stage Nagarbhavi</th>\n",
       "      <th>5th Block Hbr Layout</th>\n",
       "      <th>5th Phase JP Nagar</th>\n",
       "      <th>6th Phase JP Nagar</th>\n",
       "      <th>7th Phase JP Nagar</th>\n",
       "      <th>8th Phase JP Nagar</th>\n",
       "      <th>9th Phase JP Nagar</th>\n",
       "      <th>...</th>\n",
       "      <th>Vishveshwarya Layout</th>\n",
       "      <th>Vishwapriya Layout</th>\n",
       "      <th>Vittasandra</th>\n",
       "      <th>Whitefield</th>\n",
       "      <th>Yelachenahalli</th>\n",
       "      <th>Yelahanka</th>\n",
       "      <th>Yelahanka New Town</th>\n",
       "      <th>Yelenahalli</th>\n",
       "      <th>Yeshwanthpur</th>\n",
       "      <th>other</th>\n",
       "    </tr>\n",
       "  </thead>\n",
       "  <tbody>\n",
       "    <tr>\n",
       "      <th>0</th>\n",
       "      <td>1</td>\n",
       "      <td>0</td>\n",
       "      <td>0</td>\n",
       "      <td>0</td>\n",
       "      <td>0</td>\n",
       "      <td>0</td>\n",
       "      <td>0</td>\n",
       "      <td>0</td>\n",
       "      <td>0</td>\n",
       "      <td>0</td>\n",
       "      <td>...</td>\n",
       "      <td>0</td>\n",
       "      <td>0</td>\n",
       "      <td>0</td>\n",
       "      <td>0</td>\n",
       "      <td>0</td>\n",
       "      <td>0</td>\n",
       "      <td>0</td>\n",
       "      <td>0</td>\n",
       "      <td>0</td>\n",
       "      <td>0</td>\n",
       "    </tr>\n",
       "    <tr>\n",
       "      <th>1</th>\n",
       "      <td>1</td>\n",
       "      <td>0</td>\n",
       "      <td>0</td>\n",
       "      <td>0</td>\n",
       "      <td>0</td>\n",
       "      <td>0</td>\n",
       "      <td>0</td>\n",
       "      <td>0</td>\n",
       "      <td>0</td>\n",
       "      <td>0</td>\n",
       "      <td>...</td>\n",
       "      <td>0</td>\n",
       "      <td>0</td>\n",
       "      <td>0</td>\n",
       "      <td>0</td>\n",
       "      <td>0</td>\n",
       "      <td>0</td>\n",
       "      <td>0</td>\n",
       "      <td>0</td>\n",
       "      <td>0</td>\n",
       "      <td>0</td>\n",
       "    </tr>\n",
       "    <tr>\n",
       "      <th>2</th>\n",
       "      <td>1</td>\n",
       "      <td>0</td>\n",
       "      <td>0</td>\n",
       "      <td>0</td>\n",
       "      <td>0</td>\n",
       "      <td>0</td>\n",
       "      <td>0</td>\n",
       "      <td>0</td>\n",
       "      <td>0</td>\n",
       "      <td>0</td>\n",
       "      <td>...</td>\n",
       "      <td>0</td>\n",
       "      <td>0</td>\n",
       "      <td>0</td>\n",
       "      <td>0</td>\n",
       "      <td>0</td>\n",
       "      <td>0</td>\n",
       "      <td>0</td>\n",
       "      <td>0</td>\n",
       "      <td>0</td>\n",
       "      <td>0</td>\n",
       "    </tr>\n",
       "  </tbody>\n",
       "</table>\n",
       "<p>3 rows × 241 columns</p>\n",
       "</div>"
      ],
      "text/plain": [
       "   1st Block Jayanagar  1st Phase JP Nagar  2nd Phase Judicial Layout  \\\n",
       "0                    1                   0                          0   \n",
       "1                    1                   0                          0   \n",
       "2                    1                   0                          0   \n",
       "\n",
       "   2nd Stage Nagarbhavi  5th Block Hbr Layout  5th Phase JP Nagar  \\\n",
       "0                     0                     0                   0   \n",
       "1                     0                     0                   0   \n",
       "2                     0                     0                   0   \n",
       "\n",
       "   6th Phase JP Nagar  7th Phase JP Nagar  8th Phase JP Nagar  \\\n",
       "0                   0                   0                   0   \n",
       "1                   0                   0                   0   \n",
       "2                   0                   0                   0   \n",
       "\n",
       "   9th Phase JP Nagar  ...  Vishveshwarya Layout  Vishwapriya Layout  \\\n",
       "0                   0  ...                     0                   0   \n",
       "1                   0  ...                     0                   0   \n",
       "2                   0  ...                     0                   0   \n",
       "\n",
       "   Vittasandra  Whitefield  Yelachenahalli  Yelahanka  Yelahanka New Town  \\\n",
       "0            0           0               0          0                   0   \n",
       "1            0           0               0          0                   0   \n",
       "2            0           0               0          0                   0   \n",
       "\n",
       "   Yelenahalli  Yeshwanthpur  other  \n",
       "0            0             0      0  \n",
       "1            0             0      0  \n",
       "2            0             0      0  \n",
       "\n",
       "[3 rows x 241 columns]"
      ]
     },
     "execution_count": 54,
     "metadata": {},
     "output_type": "execute_result"
    }
   ],
   "source": [
    "\n",
    "dummies = pd.get_dummies(df10.location)\n",
    "dummies.head(3)"
   ]
  },
  {
   "cell_type": "code",
   "execution_count": 55,
   "metadata": {
    "execution": {
     "iopub.execute_input": "2020-08-27T17:29:57.374341Z",
     "iopub.status.busy": "2020-08-27T17:29:57.373424Z",
     "iopub.status.idle": "2020-08-27T17:29:57.402737Z",
     "shell.execute_reply": "2020-08-27T17:29:57.402025Z"
    },
    "executionInfo": {
     "elapsed": 8824,
     "status": "ok",
     "timestamp": 1587378790366,
     "user": {
      "displayName": "Aniket Yadav",
      "photoUrl": "https://lh3.googleusercontent.com/a-/AOh14GhCGjdGVIvP9Y3sjNgXbHXgTZCE7GEameN2e4vBbQ=s64",
      "userId": "04539006983376047031"
     },
     "user_tz": -330
    },
    "id": "q8Hrd_jbOmBx",
    "outputId": "3bac47cd-b00a-47fa-b4f6-2c0fdaba2931",
    "papermill": {
     "duration": 0.09665,
     "end_time": "2020-08-27T17:29:57.402864",
     "exception": false,
     "start_time": "2020-08-27T17:29:57.306214",
     "status": "completed"
    },
    "tags": []
   },
   "outputs": [
    {
     "data": {
      "text/html": [
       "<div>\n",
       "<style scoped>\n",
       "    .dataframe tbody tr th:only-of-type {\n",
       "        vertical-align: middle;\n",
       "    }\n",
       "\n",
       "    .dataframe tbody tr th {\n",
       "        vertical-align: top;\n",
       "    }\n",
       "\n",
       "    .dataframe thead th {\n",
       "        text-align: right;\n",
       "    }\n",
       "</style>\n",
       "<table border=\"1\" class=\"dataframe\">\n",
       "  <thead>\n",
       "    <tr style=\"text-align: right;\">\n",
       "      <th></th>\n",
       "      <th>location</th>\n",
       "      <th>total_sqft</th>\n",
       "      <th>bath</th>\n",
       "      <th>price</th>\n",
       "      <th>bhk</th>\n",
       "      <th>1st Block Jayanagar</th>\n",
       "      <th>1st Phase JP Nagar</th>\n",
       "      <th>2nd Phase Judicial Layout</th>\n",
       "      <th>2nd Stage Nagarbhavi</th>\n",
       "      <th>5th Block Hbr Layout</th>\n",
       "      <th>...</th>\n",
       "      <th>Vijayanagar</th>\n",
       "      <th>Vishveshwarya Layout</th>\n",
       "      <th>Vishwapriya Layout</th>\n",
       "      <th>Vittasandra</th>\n",
       "      <th>Whitefield</th>\n",
       "      <th>Yelachenahalli</th>\n",
       "      <th>Yelahanka</th>\n",
       "      <th>Yelahanka New Town</th>\n",
       "      <th>Yelenahalli</th>\n",
       "      <th>Yeshwanthpur</th>\n",
       "    </tr>\n",
       "  </thead>\n",
       "  <tbody>\n",
       "    <tr>\n",
       "      <th>0</th>\n",
       "      <td>1st Block Jayanagar</td>\n",
       "      <td>2850.0</td>\n",
       "      <td>4.0</td>\n",
       "      <td>428.0</td>\n",
       "      <td>4</td>\n",
       "      <td>1</td>\n",
       "      <td>0</td>\n",
       "      <td>0</td>\n",
       "      <td>0</td>\n",
       "      <td>0</td>\n",
       "      <td>...</td>\n",
       "      <td>0</td>\n",
       "      <td>0</td>\n",
       "      <td>0</td>\n",
       "      <td>0</td>\n",
       "      <td>0</td>\n",
       "      <td>0</td>\n",
       "      <td>0</td>\n",
       "      <td>0</td>\n",
       "      <td>0</td>\n",
       "      <td>0</td>\n",
       "    </tr>\n",
       "    <tr>\n",
       "      <th>1</th>\n",
       "      <td>1st Block Jayanagar</td>\n",
       "      <td>1630.0</td>\n",
       "      <td>3.0</td>\n",
       "      <td>194.0</td>\n",
       "      <td>3</td>\n",
       "      <td>1</td>\n",
       "      <td>0</td>\n",
       "      <td>0</td>\n",
       "      <td>0</td>\n",
       "      <td>0</td>\n",
       "      <td>...</td>\n",
       "      <td>0</td>\n",
       "      <td>0</td>\n",
       "      <td>0</td>\n",
       "      <td>0</td>\n",
       "      <td>0</td>\n",
       "      <td>0</td>\n",
       "      <td>0</td>\n",
       "      <td>0</td>\n",
       "      <td>0</td>\n",
       "      <td>0</td>\n",
       "    </tr>\n",
       "    <tr>\n",
       "      <th>2</th>\n",
       "      <td>1st Block Jayanagar</td>\n",
       "      <td>1875.0</td>\n",
       "      <td>2.0</td>\n",
       "      <td>235.0</td>\n",
       "      <td>3</td>\n",
       "      <td>1</td>\n",
       "      <td>0</td>\n",
       "      <td>0</td>\n",
       "      <td>0</td>\n",
       "      <td>0</td>\n",
       "      <td>...</td>\n",
       "      <td>0</td>\n",
       "      <td>0</td>\n",
       "      <td>0</td>\n",
       "      <td>0</td>\n",
       "      <td>0</td>\n",
       "      <td>0</td>\n",
       "      <td>0</td>\n",
       "      <td>0</td>\n",
       "      <td>0</td>\n",
       "      <td>0</td>\n",
       "    </tr>\n",
       "    <tr>\n",
       "      <th>3</th>\n",
       "      <td>1st Block Jayanagar</td>\n",
       "      <td>1200.0</td>\n",
       "      <td>2.0</td>\n",
       "      <td>130.0</td>\n",
       "      <td>3</td>\n",
       "      <td>1</td>\n",
       "      <td>0</td>\n",
       "      <td>0</td>\n",
       "      <td>0</td>\n",
       "      <td>0</td>\n",
       "      <td>...</td>\n",
       "      <td>0</td>\n",
       "      <td>0</td>\n",
       "      <td>0</td>\n",
       "      <td>0</td>\n",
       "      <td>0</td>\n",
       "      <td>0</td>\n",
       "      <td>0</td>\n",
       "      <td>0</td>\n",
       "      <td>0</td>\n",
       "      <td>0</td>\n",
       "    </tr>\n",
       "    <tr>\n",
       "      <th>4</th>\n",
       "      <td>1st Block Jayanagar</td>\n",
       "      <td>1235.0</td>\n",
       "      <td>2.0</td>\n",
       "      <td>148.0</td>\n",
       "      <td>2</td>\n",
       "      <td>1</td>\n",
       "      <td>0</td>\n",
       "      <td>0</td>\n",
       "      <td>0</td>\n",
       "      <td>0</td>\n",
       "      <td>...</td>\n",
       "      <td>0</td>\n",
       "      <td>0</td>\n",
       "      <td>0</td>\n",
       "      <td>0</td>\n",
       "      <td>0</td>\n",
       "      <td>0</td>\n",
       "      <td>0</td>\n",
       "      <td>0</td>\n",
       "      <td>0</td>\n",
       "      <td>0</td>\n",
       "    </tr>\n",
       "  </tbody>\n",
       "</table>\n",
       "<p>5 rows × 245 columns</p>\n",
       "</div>"
      ],
      "text/plain": [
       "              location  total_sqft  bath  price  bhk  1st Block Jayanagar  \\\n",
       "0  1st Block Jayanagar      2850.0   4.0  428.0    4                    1   \n",
       "1  1st Block Jayanagar      1630.0   3.0  194.0    3                    1   \n",
       "2  1st Block Jayanagar      1875.0   2.0  235.0    3                    1   \n",
       "3  1st Block Jayanagar      1200.0   2.0  130.0    3                    1   \n",
       "4  1st Block Jayanagar      1235.0   2.0  148.0    2                    1   \n",
       "\n",
       "   1st Phase JP Nagar  2nd Phase Judicial Layout  2nd Stage Nagarbhavi  \\\n",
       "0                   0                          0                     0   \n",
       "1                   0                          0                     0   \n",
       "2                   0                          0                     0   \n",
       "3                   0                          0                     0   \n",
       "4                   0                          0                     0   \n",
       "\n",
       "   5th Block Hbr Layout  ...  Vijayanagar  Vishveshwarya Layout  \\\n",
       "0                     0  ...            0                     0   \n",
       "1                     0  ...            0                     0   \n",
       "2                     0  ...            0                     0   \n",
       "3                     0  ...            0                     0   \n",
       "4                     0  ...            0                     0   \n",
       "\n",
       "   Vishwapriya Layout  Vittasandra  Whitefield  Yelachenahalli  Yelahanka  \\\n",
       "0                   0            0           0               0          0   \n",
       "1                   0            0           0               0          0   \n",
       "2                   0            0           0               0          0   \n",
       "3                   0            0           0               0          0   \n",
       "4                   0            0           0               0          0   \n",
       "\n",
       "   Yelahanka New Town  Yelenahalli  Yeshwanthpur  \n",
       "0                   0            0             0  \n",
       "1                   0            0             0  \n",
       "2                   0            0             0  \n",
       "3                   0            0             0  \n",
       "4                   0            0             0  \n",
       "\n",
       "[5 rows x 245 columns]"
      ]
     },
     "execution_count": 55,
     "metadata": {},
     "output_type": "execute_result"
    }
   ],
   "source": [
    "df11 = pd.concat([df10,dummies.drop('other',axis='columns')],axis='columns')\n",
    "df11.head()"
   ]
  },
  {
   "cell_type": "code",
   "execution_count": 56,
   "metadata": {
    "execution": {
     "iopub.execute_input": "2020-08-27T17:29:57.529078Z",
     "iopub.status.busy": "2020-08-27T17:29:57.528230Z",
     "iopub.status.idle": "2020-08-27T17:29:57.549591Z",
     "shell.execute_reply": "2020-08-27T17:29:57.548994Z"
    },
    "executionInfo": {
     "elapsed": 8809,
     "status": "ok",
     "timestamp": 1587378790367,
     "user": {
      "displayName": "Aniket Yadav",
      "photoUrl": "https://lh3.googleusercontent.com/a-/AOh14GhCGjdGVIvP9Y3sjNgXbHXgTZCE7GEameN2e4vBbQ=s64",
      "userId": "04539006983376047031"
     },
     "user_tz": -330
    },
    "id": "e5C7tWnyOn-w",
    "outputId": "46b03c60-0c7a-4776-c9ba-f02b69ed0b0c",
    "papermill": {
     "duration": 0.08607,
     "end_time": "2020-08-27T17:29:57.549711",
     "exception": false,
     "start_time": "2020-08-27T17:29:57.463641",
     "status": "completed"
    },
    "tags": []
   },
   "outputs": [
    {
     "data": {
      "text/html": [
       "<div>\n",
       "<style scoped>\n",
       "    .dataframe tbody tr th:only-of-type {\n",
       "        vertical-align: middle;\n",
       "    }\n",
       "\n",
       "    .dataframe tbody tr th {\n",
       "        vertical-align: top;\n",
       "    }\n",
       "\n",
       "    .dataframe thead th {\n",
       "        text-align: right;\n",
       "    }\n",
       "</style>\n",
       "<table border=\"1\" class=\"dataframe\">\n",
       "  <thead>\n",
       "    <tr style=\"text-align: right;\">\n",
       "      <th></th>\n",
       "      <th>total_sqft</th>\n",
       "      <th>bath</th>\n",
       "      <th>price</th>\n",
       "      <th>bhk</th>\n",
       "      <th>1st Block Jayanagar</th>\n",
       "      <th>1st Phase JP Nagar</th>\n",
       "      <th>2nd Phase Judicial Layout</th>\n",
       "      <th>2nd Stage Nagarbhavi</th>\n",
       "      <th>5th Block Hbr Layout</th>\n",
       "      <th>5th Phase JP Nagar</th>\n",
       "      <th>...</th>\n",
       "      <th>Vijayanagar</th>\n",
       "      <th>Vishveshwarya Layout</th>\n",
       "      <th>Vishwapriya Layout</th>\n",
       "      <th>Vittasandra</th>\n",
       "      <th>Whitefield</th>\n",
       "      <th>Yelachenahalli</th>\n",
       "      <th>Yelahanka</th>\n",
       "      <th>Yelahanka New Town</th>\n",
       "      <th>Yelenahalli</th>\n",
       "      <th>Yeshwanthpur</th>\n",
       "    </tr>\n",
       "  </thead>\n",
       "  <tbody>\n",
       "    <tr>\n",
       "      <th>0</th>\n",
       "      <td>2850.0</td>\n",
       "      <td>4.0</td>\n",
       "      <td>428.0</td>\n",
       "      <td>4</td>\n",
       "      <td>1</td>\n",
       "      <td>0</td>\n",
       "      <td>0</td>\n",
       "      <td>0</td>\n",
       "      <td>0</td>\n",
       "      <td>0</td>\n",
       "      <td>...</td>\n",
       "      <td>0</td>\n",
       "      <td>0</td>\n",
       "      <td>0</td>\n",
       "      <td>0</td>\n",
       "      <td>0</td>\n",
       "      <td>0</td>\n",
       "      <td>0</td>\n",
       "      <td>0</td>\n",
       "      <td>0</td>\n",
       "      <td>0</td>\n",
       "    </tr>\n",
       "    <tr>\n",
       "      <th>1</th>\n",
       "      <td>1630.0</td>\n",
       "      <td>3.0</td>\n",
       "      <td>194.0</td>\n",
       "      <td>3</td>\n",
       "      <td>1</td>\n",
       "      <td>0</td>\n",
       "      <td>0</td>\n",
       "      <td>0</td>\n",
       "      <td>0</td>\n",
       "      <td>0</td>\n",
       "      <td>...</td>\n",
       "      <td>0</td>\n",
       "      <td>0</td>\n",
       "      <td>0</td>\n",
       "      <td>0</td>\n",
       "      <td>0</td>\n",
       "      <td>0</td>\n",
       "      <td>0</td>\n",
       "      <td>0</td>\n",
       "      <td>0</td>\n",
       "      <td>0</td>\n",
       "    </tr>\n",
       "  </tbody>\n",
       "</table>\n",
       "<p>2 rows × 244 columns</p>\n",
       "</div>"
      ],
      "text/plain": [
       "   total_sqft  bath  price  bhk  1st Block Jayanagar  1st Phase JP Nagar  \\\n",
       "0      2850.0   4.0  428.0    4                    1                   0   \n",
       "1      1630.0   3.0  194.0    3                    1                   0   \n",
       "\n",
       "   2nd Phase Judicial Layout  2nd Stage Nagarbhavi  5th Block Hbr Layout  \\\n",
       "0                          0                     0                     0   \n",
       "1                          0                     0                     0   \n",
       "\n",
       "   5th Phase JP Nagar  ...  Vijayanagar  Vishveshwarya Layout  \\\n",
       "0                   0  ...            0                     0   \n",
       "1                   0  ...            0                     0   \n",
       "\n",
       "   Vishwapriya Layout  Vittasandra  Whitefield  Yelachenahalli  Yelahanka  \\\n",
       "0                   0            0           0               0          0   \n",
       "1                   0            0           0               0          0   \n",
       "\n",
       "   Yelahanka New Town  Yelenahalli  Yeshwanthpur  \n",
       "0                   0            0             0  \n",
       "1                   0            0             0  \n",
       "\n",
       "[2 rows x 244 columns]"
      ]
     },
     "execution_count": 56,
     "metadata": {},
     "output_type": "execute_result"
    }
   ],
   "source": [
    "df12 = df11.drop('location',axis='columns')\n",
    "df12.head(2)"
   ]
  },
  {
   "cell_type": "code",
   "execution_count": 57,
   "metadata": {
    "execution": {
     "iopub.execute_input": "2020-08-27T17:29:57.672600Z",
     "iopub.status.busy": "2020-08-27T17:29:57.671736Z",
     "iopub.status.idle": "2020-08-27T17:29:57.675717Z",
     "shell.execute_reply": "2020-08-27T17:29:57.676189Z"
    },
    "executionInfo": {
     "elapsed": 8792,
     "status": "ok",
     "timestamp": 1587378790368,
     "user": {
      "displayName": "Aniket Yadav",
      "photoUrl": "https://lh3.googleusercontent.com/a-/AOh14GhCGjdGVIvP9Y3sjNgXbHXgTZCE7GEameN2e4vBbQ=s64",
      "userId": "04539006983376047031"
     },
     "user_tz": -330
    },
    "id": "DChmf1afOqhY",
    "outputId": "6a94874e-af24-4c40-870d-21f459896b03",
    "papermill": {
     "duration": 0.069155,
     "end_time": "2020-08-27T17:29:57.676359",
     "exception": false,
     "start_time": "2020-08-27T17:29:57.607204",
     "status": "completed"
    },
    "tags": []
   },
   "outputs": [
    {
     "data": {
      "text/plain": [
       "(7239, 244)"
      ]
     },
     "execution_count": 57,
     "metadata": {},
     "output_type": "execute_result"
    }
   ],
   "source": [
    "df12.shape\n"
   ]
  },
  {
   "cell_type": "code",
   "execution_count": 58,
   "metadata": {
    "execution": {
     "iopub.execute_input": "2020-08-27T17:29:57.796732Z",
     "iopub.status.busy": "2020-08-27T17:29:57.795941Z",
     "iopub.status.idle": "2020-08-27T17:29:57.817082Z",
     "shell.execute_reply": "2020-08-27T17:29:57.816538Z"
    },
    "executionInfo": {
     "elapsed": 9464,
     "status": "ok",
     "timestamp": 1587378791065,
     "user": {
      "displayName": "Aniket Yadav",
      "photoUrl": "https://lh3.googleusercontent.com/a-/AOh14GhCGjdGVIvP9Y3sjNgXbHXgTZCE7GEameN2e4vBbQ=s64",
      "userId": "04539006983376047031"
     },
     "user_tz": -330
    },
    "id": "GlcxoN5JOtGH",
    "outputId": "a29deaea-94c9-4428-8868-bf88bc7ad239",
    "papermill": {
     "duration": 0.084435,
     "end_time": "2020-08-27T17:29:57.817201",
     "exception": false,
     "start_time": "2020-08-27T17:29:57.732766",
     "status": "completed"
    },
    "tags": []
   },
   "outputs": [
    {
     "data": {
      "text/html": [
       "<div>\n",
       "<style scoped>\n",
       "    .dataframe tbody tr th:only-of-type {\n",
       "        vertical-align: middle;\n",
       "    }\n",
       "\n",
       "    .dataframe tbody tr th {\n",
       "        vertical-align: top;\n",
       "    }\n",
       "\n",
       "    .dataframe thead th {\n",
       "        text-align: right;\n",
       "    }\n",
       "</style>\n",
       "<table border=\"1\" class=\"dataframe\">\n",
       "  <thead>\n",
       "    <tr style=\"text-align: right;\">\n",
       "      <th></th>\n",
       "      <th>total_sqft</th>\n",
       "      <th>bath</th>\n",
       "      <th>bhk</th>\n",
       "      <th>1st Block Jayanagar</th>\n",
       "      <th>1st Phase JP Nagar</th>\n",
       "      <th>2nd Phase Judicial Layout</th>\n",
       "      <th>2nd Stage Nagarbhavi</th>\n",
       "      <th>5th Block Hbr Layout</th>\n",
       "      <th>5th Phase JP Nagar</th>\n",
       "      <th>6th Phase JP Nagar</th>\n",
       "      <th>...</th>\n",
       "      <th>Vijayanagar</th>\n",
       "      <th>Vishveshwarya Layout</th>\n",
       "      <th>Vishwapriya Layout</th>\n",
       "      <th>Vittasandra</th>\n",
       "      <th>Whitefield</th>\n",
       "      <th>Yelachenahalli</th>\n",
       "      <th>Yelahanka</th>\n",
       "      <th>Yelahanka New Town</th>\n",
       "      <th>Yelenahalli</th>\n",
       "      <th>Yeshwanthpur</th>\n",
       "    </tr>\n",
       "  </thead>\n",
       "  <tbody>\n",
       "    <tr>\n",
       "      <th>0</th>\n",
       "      <td>2850.0</td>\n",
       "      <td>4.0</td>\n",
       "      <td>4</td>\n",
       "      <td>1</td>\n",
       "      <td>0</td>\n",
       "      <td>0</td>\n",
       "      <td>0</td>\n",
       "      <td>0</td>\n",
       "      <td>0</td>\n",
       "      <td>0</td>\n",
       "      <td>...</td>\n",
       "      <td>0</td>\n",
       "      <td>0</td>\n",
       "      <td>0</td>\n",
       "      <td>0</td>\n",
       "      <td>0</td>\n",
       "      <td>0</td>\n",
       "      <td>0</td>\n",
       "      <td>0</td>\n",
       "      <td>0</td>\n",
       "      <td>0</td>\n",
       "    </tr>\n",
       "    <tr>\n",
       "      <th>1</th>\n",
       "      <td>1630.0</td>\n",
       "      <td>3.0</td>\n",
       "      <td>3</td>\n",
       "      <td>1</td>\n",
       "      <td>0</td>\n",
       "      <td>0</td>\n",
       "      <td>0</td>\n",
       "      <td>0</td>\n",
       "      <td>0</td>\n",
       "      <td>0</td>\n",
       "      <td>...</td>\n",
       "      <td>0</td>\n",
       "      <td>0</td>\n",
       "      <td>0</td>\n",
       "      <td>0</td>\n",
       "      <td>0</td>\n",
       "      <td>0</td>\n",
       "      <td>0</td>\n",
       "      <td>0</td>\n",
       "      <td>0</td>\n",
       "      <td>0</td>\n",
       "    </tr>\n",
       "    <tr>\n",
       "      <th>2</th>\n",
       "      <td>1875.0</td>\n",
       "      <td>2.0</td>\n",
       "      <td>3</td>\n",
       "      <td>1</td>\n",
       "      <td>0</td>\n",
       "      <td>0</td>\n",
       "      <td>0</td>\n",
       "      <td>0</td>\n",
       "      <td>0</td>\n",
       "      <td>0</td>\n",
       "      <td>...</td>\n",
       "      <td>0</td>\n",
       "      <td>0</td>\n",
       "      <td>0</td>\n",
       "      <td>0</td>\n",
       "      <td>0</td>\n",
       "      <td>0</td>\n",
       "      <td>0</td>\n",
       "      <td>0</td>\n",
       "      <td>0</td>\n",
       "      <td>0</td>\n",
       "    </tr>\n",
       "  </tbody>\n",
       "</table>\n",
       "<p>3 rows × 243 columns</p>\n",
       "</div>"
      ],
      "text/plain": [
       "   total_sqft  bath  bhk  1st Block Jayanagar  1st Phase JP Nagar  \\\n",
       "0      2850.0   4.0    4                    1                   0   \n",
       "1      1630.0   3.0    3                    1                   0   \n",
       "2      1875.0   2.0    3                    1                   0   \n",
       "\n",
       "   2nd Phase Judicial Layout  2nd Stage Nagarbhavi  5th Block Hbr Layout  \\\n",
       "0                          0                     0                     0   \n",
       "1                          0                     0                     0   \n",
       "2                          0                     0                     0   \n",
       "\n",
       "   5th Phase JP Nagar  6th Phase JP Nagar  ...  Vijayanagar  \\\n",
       "0                   0                   0  ...            0   \n",
       "1                   0                   0  ...            0   \n",
       "2                   0                   0  ...            0   \n",
       "\n",
       "   Vishveshwarya Layout  Vishwapriya Layout  Vittasandra  Whitefield  \\\n",
       "0                     0                   0            0           0   \n",
       "1                     0                   0            0           0   \n",
       "2                     0                   0            0           0   \n",
       "\n",
       "   Yelachenahalli  Yelahanka  Yelahanka New Town  Yelenahalli  Yeshwanthpur  \n",
       "0               0          0                   0            0             0  \n",
       "1               0          0                   0            0             0  \n",
       "2               0          0                   0            0             0  \n",
       "\n",
       "[3 rows x 243 columns]"
      ]
     },
     "execution_count": 58,
     "metadata": {},
     "output_type": "execute_result"
    }
   ],
   "source": [
    "\n",
    "X = df12.drop(['price'],axis='columns')\n",
    "X.head(3)"
   ]
  },
  {
   "cell_type": "code",
   "execution_count": 59,
   "metadata": {
    "execution": {
     "iopub.execute_input": "2020-08-27T17:29:57.935855Z",
     "iopub.status.busy": "2020-08-27T17:29:57.934649Z",
     "iopub.status.idle": "2020-08-27T17:29:57.939944Z",
     "shell.execute_reply": "2020-08-27T17:29:57.939241Z"
    },
    "executionInfo": {
     "elapsed": 9443,
     "status": "ok",
     "timestamp": 1587378791066,
     "user": {
      "displayName": "Aniket Yadav",
      "photoUrl": "https://lh3.googleusercontent.com/a-/AOh14GhCGjdGVIvP9Y3sjNgXbHXgTZCE7GEameN2e4vBbQ=s64",
      "userId": "04539006983376047031"
     },
     "user_tz": -330
    },
    "id": "FpFMRFSsOvoU",
    "outputId": "6d712f4a-a607-40a1-93b4-0dba18f1708d",
    "papermill": {
     "duration": 0.066824,
     "end_time": "2020-08-27T17:29:57.940106",
     "exception": false,
     "start_time": "2020-08-27T17:29:57.873282",
     "status": "completed"
    },
    "tags": []
   },
   "outputs": [
    {
     "data": {
      "text/plain": [
       "(7239, 243)"
      ]
     },
     "execution_count": 59,
     "metadata": {},
     "output_type": "execute_result"
    }
   ],
   "source": [
    "X.shape\n"
   ]
  },
  {
   "cell_type": "code",
   "execution_count": 60,
   "metadata": {
    "execution": {
     "iopub.execute_input": "2020-08-27T17:29:58.068452Z",
     "iopub.status.busy": "2020-08-27T17:29:58.067671Z",
     "iopub.status.idle": "2020-08-27T17:29:58.072333Z",
     "shell.execute_reply": "2020-08-27T17:29:58.072911Z"
    },
    "executionInfo": {
     "elapsed": 9412,
     "status": "ok",
     "timestamp": 1587378791066,
     "user": {
      "displayName": "Aniket Yadav",
      "photoUrl": "https://lh3.googleusercontent.com/a-/AOh14GhCGjdGVIvP9Y3sjNgXbHXgTZCE7GEameN2e4vBbQ=s64",
      "userId": "04539006983376047031"
     },
     "user_tz": -330
    },
    "id": "Y8WeHklZOx_o",
    "outputId": "81d86cff-22ba-4ae4-ebd0-657049f3ffea",
    "papermill": {
     "duration": 0.074421,
     "end_time": "2020-08-27T17:29:58.073093",
     "exception": false,
     "start_time": "2020-08-27T17:29:57.998672",
     "status": "completed"
    },
    "tags": []
   },
   "outputs": [
    {
     "data": {
      "text/plain": [
       "0    428.0\n",
       "1    194.0\n",
       "2    235.0\n",
       "Name: price, dtype: float64"
      ]
     },
     "execution_count": 60,
     "metadata": {},
     "output_type": "execute_result"
    }
   ],
   "source": [
    "\n",
    "y = df12.price\n",
    "y.head(3)"
   ]
  },
  {
   "cell_type": "code",
   "execution_count": 61,
   "metadata": {
    "execution": {
     "iopub.execute_input": "2020-08-27T17:29:58.209575Z",
     "iopub.status.busy": "2020-08-27T17:29:58.208678Z",
     "iopub.status.idle": "2020-08-27T17:29:58.213652Z",
     "shell.execute_reply": "2020-08-27T17:29:58.212899Z"
    },
    "executionInfo": {
     "elapsed": 9393,
     "status": "ok",
     "timestamp": 1587378791067,
     "user": {
      "displayName": "Aniket Yadav",
      "photoUrl": "https://lh3.googleusercontent.com/a-/AOh14GhCGjdGVIvP9Y3sjNgXbHXgTZCE7GEameN2e4vBbQ=s64",
      "userId": "04539006983376047031"
     },
     "user_tz": -330
    },
    "id": "IJdQ4eV2O0fa",
    "outputId": "a895db46-bb54-4199-8e8b-c7302df63478",
    "papermill": {
     "duration": 0.073119,
     "end_time": "2020-08-27T17:29:58.213792",
     "exception": false,
     "start_time": "2020-08-27T17:29:58.140673",
     "status": "completed"
    },
    "tags": []
   },
   "outputs": [
    {
     "data": {
      "text/plain": [
       "7239"
      ]
     },
     "execution_count": 61,
     "metadata": {},
     "output_type": "execute_result"
    }
   ],
   "source": [
    "len(y)"
   ]
  },
  {
   "cell_type": "code",
   "execution_count": 62,
   "metadata": {
    "execution": {
     "iopub.execute_input": "2020-08-27T17:29:58.337885Z",
     "iopub.status.busy": "2020-08-27T17:29:58.336951Z",
     "iopub.status.idle": "2020-08-27T17:29:59.497149Z",
     "shell.execute_reply": "2020-08-27T17:29:59.496534Z"
    },
    "id": "MtPfBQztO2-x",
    "papermill": {
     "duration": 1.223077,
     "end_time": "2020-08-27T17:29:59.497295",
     "exception": false,
     "start_time": "2020-08-27T17:29:58.274218",
     "status": "completed"
    },
    "tags": []
   },
   "outputs": [],
   "source": [
    "from sklearn.model_selection import train_test_split\n",
    "X_train, X_test, y_train, y_test = train_test_split(X,y,test_size=0.2,random_state=10)"
   ]
  },
  {
   "cell_type": "code",
   "execution_count": 63,
   "metadata": {
    "execution": {
     "iopub.execute_input": "2020-08-27T17:29:59.624907Z",
     "iopub.status.busy": "2020-08-27T17:29:59.624198Z",
     "iopub.status.idle": "2020-08-27T17:29:59.859930Z",
     "shell.execute_reply": "2020-08-27T17:29:59.860585Z"
    },
    "executionInfo": {
     "elapsed": 9364,
     "status": "ok",
     "timestamp": 1587378791068,
     "user": {
      "displayName": "Aniket Yadav",
      "photoUrl": "https://lh3.googleusercontent.com/a-/AOh14GhCGjdGVIvP9Y3sjNgXbHXgTZCE7GEameN2e4vBbQ=s64",
      "userId": "04539006983376047031"
     },
     "user_tz": -330
    },
    "id": "hrl23yNKO53Z",
    "outputId": "bf605590-d75c-4e40-ce9b-c48421874984",
    "papermill": {
     "duration": 0.302046,
     "end_time": "2020-08-27T17:29:59.860761",
     "exception": false,
     "start_time": "2020-08-27T17:29:59.558715",
     "status": "completed"
    },
    "tags": []
   },
   "outputs": [
    {
     "data": {
      "text/plain": [
       "0.8629132245229449"
      ]
     },
     "execution_count": 63,
     "metadata": {},
     "output_type": "execute_result"
    }
   ],
   "source": [
    "from sklearn.linear_model import LinearRegression\n",
    "lr_clf = LinearRegression()\n",
    "lr_clf.fit(X_train,y_train)\n",
    "lr_clf.score(X_test,y_test)"
   ]
  },
  {
   "cell_type": "markdown",
   "execution_count": null,
   "metadata": {
    "id": "rtJmHSGXPADY",
    "papermill": {
     "duration": 0.059807,
     "end_time": "2020-08-27T17:29:59.982252",
     "exception": false,
     "start_time": "2020-08-27T17:29:59.922445",
     "status": "completed"
    },
    "tags": []
   },
   "source": [
    "# **Use K Fold cross validation to measure accuracy of our LinearRegression model**"
   ]
  },
  {
   "cell_type": "code",
   "execution_count": 64,
   "metadata": {
    "execution": {
     "iopub.execute_input": "2020-08-27T17:30:00.125128Z",
     "iopub.status.busy": "2020-08-27T17:30:00.123837Z",
     "iopub.status.idle": "2020-08-27T17:30:00.503583Z",
     "shell.execute_reply": "2020-08-27T17:30:00.503013Z"
    },
    "executionInfo": {
     "elapsed": 10589,
     "status": "ok",
     "timestamp": 1587378792314,
     "user": {
      "displayName": "Aniket Yadav",
      "photoUrl": "https://lh3.googleusercontent.com/a-/AOh14GhCGjdGVIvP9Y3sjNgXbHXgTZCE7GEameN2e4vBbQ=s64",
      "userId": "04539006983376047031"
     },
     "user_tz": -330
    },
    "id": "xZmjIjjSO8p0",
    "outputId": "9686de1f-d29c-4bf8-c3ce-b86dd70306e8",
    "papermill": {
     "duration": 0.456794,
     "end_time": "2020-08-27T17:30:00.503731",
     "exception": false,
     "start_time": "2020-08-27T17:30:00.046937",
     "status": "completed"
    },
    "tags": []
   },
   "outputs": [
    {
     "data": {
      "text/plain": [
       "array([0.82702546, 0.86027005, 0.85322178, 0.8436466 , 0.85481502])"
      ]
     },
     "execution_count": 64,
     "metadata": {},
     "output_type": "execute_result"
    }
   ],
   "source": [
    "from sklearn.model_selection import ShuffleSplit\n",
    "from sklearn.model_selection import cross_val_score\n",
    "\n",
    "cv = ShuffleSplit(n_splits=5, test_size=0.2, random_state=0)\n",
    "\n",
    "cross_val_score(LinearRegression(), X, y, cv=cv)"
   ]
  },
  {
   "cell_type": "markdown",
   "execution_count": null,
   "metadata": {
    "id": "FibjJA7TPKtN",
    "papermill": {
     "duration": 0.06211,
     "end_time": "2020-08-27T17:30:00.630775",
     "exception": false,
     "start_time": "2020-08-27T17:30:00.568665",
     "status": "completed"
    },
    "tags": []
   },
   "source": [
    "# **Find best model using GridSearchCV**"
   ]
  },
  {
   "cell_type": "code",
   "execution_count": 65,
   "metadata": {
    "execution": {
     "iopub.execute_input": "2020-08-27T17:30:00.774298Z",
     "iopub.status.busy": "2020-08-27T17:30:00.773278Z",
     "iopub.status.idle": "2020-08-27T17:30:06.338935Z",
     "shell.execute_reply": "2020-08-27T17:30:06.338219Z"
    },
    "executionInfo": {
     "elapsed": 15748,
     "status": "ok",
     "timestamp": 1587378797494,
     "user": {
      "displayName": "Aniket Yadav",
      "photoUrl": "https://lh3.googleusercontent.com/a-/AOh14GhCGjdGVIvP9Y3sjNgXbHXgTZCE7GEameN2e4vBbQ=s64",
      "userId": "04539006983376047031"
     },
     "user_tz": -330
    },
    "id": "adKwXog6PG1c",
    "outputId": "1c6df2b7-1aaf-4eb0-c9cb-6a6e17adb0f3",
    "papermill": {
     "duration": 5.640808,
     "end_time": "2020-08-27T17:30:06.339075",
     "exception": false,
     "start_time": "2020-08-27T17:30:00.698267",
     "status": "completed"
    },
    "tags": []
   },
   "outputs": [
    {
     "data": {
      "text/html": [
       "<div>\n",
       "<style scoped>\n",
       "    .dataframe tbody tr th:only-of-type {\n",
       "        vertical-align: middle;\n",
       "    }\n",
       "\n",
       "    .dataframe tbody tr th {\n",
       "        vertical-align: top;\n",
       "    }\n",
       "\n",
       "    .dataframe thead th {\n",
       "        text-align: right;\n",
       "    }\n",
       "</style>\n",
       "<table border=\"1\" class=\"dataframe\">\n",
       "  <thead>\n",
       "    <tr style=\"text-align: right;\">\n",
       "      <th></th>\n",
       "      <th>model</th>\n",
       "      <th>best_score</th>\n",
       "      <th>best_params</th>\n",
       "    </tr>\n",
       "  </thead>\n",
       "  <tbody>\n",
       "    <tr>\n",
       "      <th>0</th>\n",
       "      <td>linear_regression</td>\n",
       "      <td>0.847796</td>\n",
       "      <td>{'normalize': False}</td>\n",
       "    </tr>\n",
       "    <tr>\n",
       "      <th>1</th>\n",
       "      <td>lasso</td>\n",
       "      <td>0.726783</td>\n",
       "      <td>{'alpha': 2, 'selection': 'random'}</td>\n",
       "    </tr>\n",
       "    <tr>\n",
       "      <th>2</th>\n",
       "      <td>decision_tree</td>\n",
       "      <td>0.709333</td>\n",
       "      <td>{'criterion': 'mse', 'splitter': 'random'}</td>\n",
       "    </tr>\n",
       "  </tbody>\n",
       "</table>\n",
       "</div>"
      ],
      "text/plain": [
       "               model  best_score                                 best_params\n",
       "0  linear_regression    0.847796                        {'normalize': False}\n",
       "1              lasso    0.726783         {'alpha': 2, 'selection': 'random'}\n",
       "2      decision_tree    0.709333  {'criterion': 'mse', 'splitter': 'random'}"
      ]
     },
     "execution_count": 65,
     "metadata": {},
     "output_type": "execute_result"
    }
   ],
   "source": [
    "\n",
    "from sklearn.model_selection import GridSearchCV\n",
    "\n",
    "from sklearn.linear_model import Lasso\n",
    "from sklearn.tree import DecisionTreeRegressor\n",
    "\n",
    "def find_best_model_using_gridsearchcv(X,y):\n",
    "    algos = {\n",
    "        'linear_regression' : {\n",
    "            'model': LinearRegression(),\n",
    "            'params': {\n",
    "                'normalize': [True, False]\n",
    "            }\n",
    "        },\n",
    "        'lasso': {\n",
    "            'model': Lasso(),\n",
    "            'params': {\n",
    "                'alpha': [1,2],\n",
    "                'selection': ['random', 'cyclic']\n",
    "            }\n",
    "        },\n",
    "        'decision_tree': {\n",
    "            'model': DecisionTreeRegressor(),\n",
    "            'params': {\n",
    "                'criterion' : ['mse','friedman_mse'],\n",
    "                'splitter': ['best','random']\n",
    "            }\n",
    "        }\n",
    "    }\n",
    "    scores = []\n",
    "    cv = ShuffleSplit(n_splits=5, test_size=0.2, random_state=0)\n",
    "    for algo_name, config in algos.items():\n",
    "        gs =  GridSearchCV(config['model'], config['params'], cv=cv, return_train_score=False)\n",
    "        gs.fit(X,y)\n",
    "        scores.append({\n",
    "            'model': algo_name,\n",
    "            'best_score': gs.best_score_,\n",
    "            'best_params': gs.best_params_\n",
    "        })\n",
    "\n",
    "    return pd.DataFrame(scores,columns=['model','best_score','best_params'])\n",
    "\n",
    "find_best_model_using_gridsearchcv(X,y)"
   ]
  },
  {
   "cell_type": "markdown",
   "execution_count": null,
   "metadata": {
    "id": "kSH0sdSqPXrm",
    "papermill": {
     "duration": 0.057947,
     "end_time": "2020-08-27T17:30:06.456871",
     "exception": false,
     "start_time": "2020-08-27T17:30:06.398924",
     "status": "completed"
    },
    "tags": []
   },
   "source": [
    "# **Test the model for few properties**"
   ]
  },
  {
   "cell_type": "code",
   "execution_count": 66,
   "metadata": {
    "execution": {
     "iopub.execute_input": "2020-08-27T17:30:06.579143Z",
     "iopub.status.busy": "2020-08-27T17:30:06.578324Z",
     "iopub.status.idle": "2020-08-27T17:30:06.581733Z",
     "shell.execute_reply": "2020-08-27T17:30:06.581174Z"
    },
    "id": "SOlTOq3TPRZ3",
    "papermill": {
     "duration": 0.068122,
     "end_time": "2020-08-27T17:30:06.581863",
     "exception": false,
     "start_time": "2020-08-27T17:30:06.513741",
     "status": "completed"
    },
    "tags": []
   },
   "outputs": [],
   "source": [
    "def predict_price(location,sqft,bath,bhk):    \n",
    "    loc_index = np.where(X.columns==location)[0][0]\n",
    "\n",
    "    x = np.zeros(len(X.columns))\n",
    "    x[0] = sqft\n",
    "    x[1] = bath\n",
    "    x[2] = bhk\n",
    "    if loc_index >= 0:\n",
    "        x[loc_index] = 1\n",
    "\n",
    "    return lr_clf.predict([x])[0]"
   ]
  },
  {
   "cell_type": "code",
   "execution_count": 67,
   "metadata": {
    "execution": {
     "iopub.execute_input": "2020-08-27T17:30:06.702146Z",
     "iopub.status.busy": "2020-08-27T17:30:06.701109Z",
     "iopub.status.idle": "2020-08-27T17:30:06.706296Z",
     "shell.execute_reply": "2020-08-27T17:30:06.705578Z"
    },
    "executionInfo": {
     "elapsed": 15695,
     "status": "ok",
     "timestamp": 1587378797496,
     "user": {
      "displayName": "Aniket Yadav",
      "photoUrl": "https://lh3.googleusercontent.com/a-/AOh14GhCGjdGVIvP9Y3sjNgXbHXgTZCE7GEameN2e4vBbQ=s64",
      "userId": "04539006983376047031"
     },
     "user_tz": -330
    },
    "id": "uTXCIWd-PdPp",
    "outputId": "59a61238-ca55-4290-bd98-af51e3d37692",
    "papermill": {
     "duration": 0.068427,
     "end_time": "2020-08-27T17:30:06.706459",
     "exception": false,
     "start_time": "2020-08-27T17:30:06.638032",
     "status": "completed"
    },
    "tags": []
   },
   "outputs": [
    {
     "data": {
      "text/plain": [
       "83.86570258311207"
      ]
     },
     "execution_count": 67,
     "metadata": {},
     "output_type": "execute_result"
    }
   ],
   "source": [
    "predict_price('1st Phase JP Nagar',1000, 2, 2)\n"
   ]
  },
  {
   "cell_type": "code",
   "execution_count": 68,
   "metadata": {
    "execution": {
     "iopub.execute_input": "2020-08-27T17:30:06.832070Z",
     "iopub.status.busy": "2020-08-27T17:30:06.831081Z",
     "iopub.status.idle": "2020-08-27T17:30:06.835477Z",
     "shell.execute_reply": "2020-08-27T17:30:06.834988Z"
    },
    "executionInfo": {
     "elapsed": 16224,
     "status": "ok",
     "timestamp": 1587378798050,
     "user": {
      "displayName": "Aniket Yadav",
      "photoUrl": "https://lh3.googleusercontent.com/a-/AOh14GhCGjdGVIvP9Y3sjNgXbHXgTZCE7GEameN2e4vBbQ=s64",
      "userId": "04539006983376047031"
     },
     "user_tz": -330
    },
    "id": "aFOUXwSVPgLs",
    "outputId": "68c61dd7-73c0-4b9c-f0d9-afaca9d54cfa",
    "papermill": {
     "duration": 0.06794,
     "end_time": "2020-08-27T17:30:06.835622",
     "exception": false,
     "start_time": "2020-08-27T17:30:06.767682",
     "status": "completed"
    },
    "tags": []
   },
   "outputs": [
    {
     "data": {
      "text/plain": [
       "86.08062284985984"
      ]
     },
     "execution_count": 68,
     "metadata": {},
     "output_type": "execute_result"
    }
   ],
   "source": [
    "predict_price('1st Phase JP Nagar',1000, 3, 3)\n"
   ]
  },
  {
   "cell_type": "code",
   "execution_count": 69,
   "metadata": {
    "execution": {
     "iopub.execute_input": "2020-08-27T17:30:06.959458Z",
     "iopub.status.busy": "2020-08-27T17:30:06.958718Z",
     "iopub.status.idle": "2020-08-27T17:30:06.964226Z",
     "shell.execute_reply": "2020-08-27T17:30:06.963586Z"
    },
    "executionInfo": {
     "elapsed": 16186,
     "status": "ok",
     "timestamp": 1587378798051,
     "user": {
      "displayName": "Aniket Yadav",
      "photoUrl": "https://lh3.googleusercontent.com/a-/AOh14GhCGjdGVIvP9Y3sjNgXbHXgTZCE7GEameN2e4vBbQ=s64",
      "userId": "04539006983376047031"
     },
     "user_tz": -330
    },
    "id": "DatJXreSPi7j",
    "outputId": "96049d9d-05cf-4aff-ece3-d0136a6a056e",
    "papermill": {
     "duration": 0.071107,
     "end_time": "2020-08-27T17:30:06.964373",
     "exception": false,
     "start_time": "2020-08-27T17:30:06.893266",
     "status": "completed"
    },
    "tags": []
   },
   "outputs": [
    {
     "data": {
      "text/plain": [
       "193.31197733179553"
      ]
     },
     "execution_count": 69,
     "metadata": {},
     "output_type": "execute_result"
    }
   ],
   "source": [
    "predict_price('Indira Nagar',1000, 2, 2)\n"
   ]
  },
  {
   "cell_type": "markdown",
   "execution_count": null,
   "metadata": {
    "id": "zEr1sPKyPtOd",
    "papermill": {
     "duration": 0.05746,
     "end_time": "2020-08-27T17:30:07.081764",
     "exception": false,
     "start_time": "2020-08-27T17:30:07.024304",
     "status": "completed"
    },
    "tags": []
   },
   "source": [
    "# **Export the tested model to a pickle file**"
   ]
  },
  {
   "cell_type": "code",
   "execution_count": 70,
   "metadata": {
    "execution": {
     "iopub.execute_input": "2020-08-27T17:30:07.207287Z",
     "iopub.status.busy": "2020-08-27T17:30:07.206377Z",
     "iopub.status.idle": "2020-08-27T17:30:07.210464Z",
     "shell.execute_reply": "2020-08-27T17:30:07.209828Z"
    },
    "id": "k4KaSj3tPmcm",
    "papermill": {
     "duration": 0.069718,
     "end_time": "2020-08-27T17:30:07.210639",
     "exception": false,
     "start_time": "2020-08-27T17:30:07.140921",
     "status": "completed"
    },
    "tags": []
   },
   "outputs": [],
   "source": [
    "import pickle\n",
    "with open('banglore_home_prices_model.pickle','wb') as f:\n",
    "    pickle.dump(lr_clf,f)"
   ]
  },
  {
   "cell_type": "markdown",
   "execution_count": null,
   "metadata": {
    "id": "C9SMbLnsPzRQ",
    "papermill": {
     "duration": 0.060013,
     "end_time": "2020-08-27T17:30:07.335779",
     "exception": false,
     "start_time": "2020-08-27T17:30:07.275766",
     "status": "completed"
    },
    "tags": []
   },
   "source": [
    "# **Export location and column information to a file that will be useful later on in our prediction application**"
   ]
  },
  {
   "cell_type": "code",
   "execution_count": 71,
   "metadata": {
    "execution": {
     "iopub.execute_input": "2020-08-27T17:30:07.462727Z",
     "iopub.status.busy": "2020-08-27T17:30:07.461839Z",
     "iopub.status.idle": "2020-08-27T17:30:07.465971Z",
     "shell.execute_reply": "2020-08-27T17:30:07.465366Z"
    },
    "id": "I7lh5A7MPx4i",
    "papermill": {
     "duration": 0.070417,
     "end_time": "2020-08-27T17:30:07.466108",
     "exception": false,
     "start_time": "2020-08-27T17:30:07.395691",
     "status": "completed"
    },
    "tags": []
   },
   "outputs": [],
   "source": [
    "import json\n",
    "columns = {\n",
    "    'data_columns' : [col.lower() for col in X.columns]\n",
    "}\n",
    "with open(\"columns.json\",\"w\") as f:\n",
    "    f.write(json.dumps(columns))"
   ]
  },
  {
   "cell_type": "code",
   "execution_count": null,
   "metadata": {
    "id": "GW2_S2AMP5Nq",
    "papermill": {
     "duration": 0.061171,
     "end_time": "2020-08-27T17:30:07.586658",
     "exception": false,
     "start_time": "2020-08-27T17:30:07.525487",
     "status": "completed"
    },
    "tags": []
   },
   "outputs": [],
   "source": []
  }
 ],
 "metadata": {
  "kernelspec": {
   "display_name": "Python 3",
   "language": "python",
   "name": "python3"
  },
  "language_info": {
   "codemirror_mode": {
    "name": "ipython",
    "version": 3
   },
   "file_extension": ".py",
   "mimetype": "text/x-python",
   "name": "python",
   "nbconvert_exporter": "python",
   "pygments_lexer": "ipython3",
   "version": "3.7.6"
  },
  "papermill": {
   "duration": 24.199322,
   "end_time": "2020-08-27T17:30:07.753059",
   "environment_variables": {},
   "exception": null,
   "input_path": "__notebook__.ipynb",
   "output_path": "__notebook__.ipynb",
   "parameters": {},
   "start_time": "2020-08-27T17:29:43.553737",
   "version": "2.1.0"
  }
 },
 "nbformat": 4,
 "nbformat_minor": 4
}
